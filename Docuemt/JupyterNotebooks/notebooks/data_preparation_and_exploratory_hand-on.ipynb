{
 "cells": [
  {
   "cell_type": "markdown",
   "metadata": {},
   "source": [
    "# Machine Learning for Data Science: Data Preparation and Exploratory"
   ]
  },
  {
   "cell_type": "markdown",
   "metadata": {},
   "source": [
    "---"
   ]
  },
  {
   "cell_type": "markdown",
   "metadata": {},
   "source": [
    "## Objectives\n",
    "- Part 1: Analyzing the Data\n",
    "- Part 2: Visualizing the Data\n",
    "<br><br>\n",
    "In this lab, you will import a data set into a pandas frame and generate descriptive statistics from the data. You will format text strings report the descriptive statistics and generate a plot of the data. Finally, you will experiment with parameters of the graph to become familiar with plotting data using the matplotlib.pyplot libary."
   ]
  },
  {
   "cell_type": "markdown",
   "metadata": {},
   "source": [
    "### Table of content\n",
    "- __Part1 : Analyzing the data__\n",
    "    1. Setup the environment and import the data\n",
    "    2. Understanding the data\n",
    "    3. Preprocess the data\n",
    "        - Filter data\n",
    "        - Handling Missing data\n",
    "        - Transform data \n",
    "            - convert latitute and longtitute to address\n",
    "            - convert data (numerical to nominal)\n",
    "        - Write data to excel or csv file<br><br>\n",
    "- __Part2 : Visualizing the data__\n",
    "    1. Histogram\n",
    "    2. Box plot\n",
    "    3. Bar chart\n",
    "    4. Scatter plot"
   ]
  },
  {
   "cell_type": "markdown",
   "metadata": {},
   "source": [
    "---"
   ]
  },
  {
   "cell_type": "markdown",
   "metadata": {},
   "source": [
    "## Part 1: Analyzing the Data"
   ]
  },
  {
   "cell_type": "markdown",
   "metadata": {},
   "source": [
    "### Step 1: Setup the environment and import data. \n",
    "\n",
    "First, you will import the modules and set up the enivronment to display matplotlib output to the notebook page. <br>\n",
    "Then, you will use pandas to import data from a csv file into a dataframe. <br>"
   ]
  },
  {
   "cell_type": "markdown",
   "metadata": {},
   "source": [
    "__a) Import modules and set up the environment.__"
   ]
  },
  {
   "cell_type": "code",
   "execution_count": null,
   "metadata": {
    "collapsed": true
   },
   "outputs": [],
   "source": [
    "# import pandas, matplotlib\n"
   ]
  },
  {
   "cell_type": "markdown",
   "metadata": {},
   "source": [
    "__b) Load dataset.__"
   ]
  },
  {
   "cell_type": "code",
   "execution_count": null,
   "metadata": {
    "collapsed": true
   },
   "outputs": [],
   "source": [
    "# load excel 'accident_data.xlsx'\n"
   ]
  },
  {
   "cell_type": "code",
   "execution_count": null,
   "metadata": {
    "collapsed": false
   },
   "outputs": [],
   "source": [
    "# show top 5 records\n"
   ]
  },
  {
   "cell_type": "code",
   "execution_count": null,
   "metadata": {
    "collapsed": false
   },
   "outputs": [],
   "source": [
    "# show shape\n"
   ]
  },
  {
   "cell_type": "code",
   "execution_count": null,
   "metadata": {
    "collapsed": false
   },
   "outputs": [],
   "source": [
    "# show size\n"
   ]
  },
  {
   "cell_type": "code",
   "execution_count": null,
   "metadata": {
    "collapsed": false
   },
   "outputs": [],
   "source": [
    "# show all columns\n"
   ]
  },
  {
   "cell_type": "code",
   "execution_count": null,
   "metadata": {
    "collapsed": true
   },
   "outputs": [],
   "source": [
    "# show datatype of each columns\n"
   ]
  },
  {
   "cell_type": "markdown",
   "metadata": {},
   "source": [
    "---"
   ]
  },
  {
   "cell_type": "markdown",
   "metadata": {},
   "source": [
    "### Step 2: Data Understanding. "
   ]
  },
  {
   "cell_type": "markdown",
   "metadata": {},
   "source": [
    "The goal of the first part of the lab is to use pandas methods to import a dataset and generate the following descriptive statistics:\n",
    "\n",
    "1. sample size\n",
    "2. mean\n",
    "3. median\n",
    "4. standard deviation\n",
    "5. minimum, maximum, and range of values"
   ]
  },
  {
   "cell_type": "markdown",
   "metadata": {},
   "source": [
    "#### a) Descriptive statistics"
   ]
  },
  {
   "cell_type": "code",
   "execution_count": null,
   "metadata": {
    "collapsed": false
   },
   "outputs": [],
   "source": [
    "# decribe the dataframe\n"
   ]
  },
  {
   "cell_type": "markdown",
   "metadata": {},
   "source": [
    "__ b) Filter data __"
   ]
  },
  {
   "cell_type": "code",
   "execution_count": null,
   "metadata": {
    "collapsed": false
   },
   "outputs": [],
   "source": [
    "# filter accident data only 2014\n"
   ]
  },
  {
   "cell_type": "code",
   "execution_count": null,
   "metadata": {
    "collapsed": false
   },
   "outputs": [],
   "source": [
    "# show shape\n"
   ]
  },
  {
   "cell_type": "code",
   "execution_count": null,
   "metadata": {
    "collapsed": false
   },
   "outputs": [],
   "source": [
    "# convert datatype of 'accident_month' and 'accident_year' from integer to string \n",
    "# df[['col1','col2']] = df[['col1','col2']].astype(str)\n"
   ]
  },
  {
   "cell_type": "code",
   "execution_count": null,
   "metadata": {
    "collapsed": false
   },
   "outputs": [],
   "source": [
    "# describe() and show dtype\n"
   ]
  },
  {
   "cell_type": "code",
   "execution_count": null,
   "metadata": {
    "collapsed": false
   },
   "outputs": [],
   "source": [
    "# visualization the data with hitogram for example 'ACCIDENT_COST'\n",
    "# df['column].hist()\n"
   ]
  },
  {
   "cell_type": "code",
   "execution_count": null,
   "metadata": {
    "collapsed": false
   },
   "outputs": [],
   "source": [
    "# visualization the data with box plot for example 'ACCIDENT_COST'\n",
    "# df['column].plot.box()\n"
   ]
  },
  {
   "cell_type": "markdown",
   "metadata": {},
   "source": [
    "---"
   ]
  },
  {
   "cell_type": "markdown",
   "metadata": {},
   "source": [
    "### Step 3: Data Preparation. "
   ]
  },
  {
   "cell_type": "markdown",
   "metadata": {},
   "source": [
    "#### a) Data cleaning"
   ]
  },
  {
   "cell_type": "code",
   "execution_count": null,
   "metadata": {
    "collapsed": false
   },
   "outputs": [],
   "source": [
    "# count null value\n",
    "df_2014.isnull().sum()"
   ]
  },
  {
   "cell_type": "code",
   "execution_count": null,
   "metadata": {
    "collapsed": false
   },
   "outputs": [],
   "source": [
    "# copy dataframe\n",
    "tmp = df_2014.copy()\n",
    "tmp.head()"
   ]
  },
  {
   "cell_type": "code",
   "execution_count": null,
   "metadata": {
    "collapsed": false
   },
   "outputs": [],
   "source": [
    "# Handling missing value \n",
    "# solution 1 : fill null value with specific value\n",
    "tmp['ACCIDENT_COST'].fillna(0, inplace = True)\n",
    "tmp.head()"
   ]
  },
  {
   "cell_type": "code",
   "execution_count": null,
   "metadata": {
    "collapsed": false
   },
   "outputs": [],
   "source": [
    "tmp.shape"
   ]
  },
  {
   "cell_type": "code",
   "execution_count": null,
   "metadata": {
    "collapsed": false
   },
   "outputs": [],
   "source": [
    "tmp = df_2014.copy()\n",
    "tmp.head()\n",
    "\n",
    "# Handling missing value \n",
    "# solution 2 : simplest drop all record that contain null value\n",
    "tmp = tmp.dropna()\n",
    "tmp.shape"
   ]
  },
  {
   "cell_type": "code",
   "execution_count": null,
   "metadata": {
    "collapsed": false
   },
   "outputs": [],
   "source": [
    "tmp.head()"
   ]
  },
  {
   "cell_type": "code",
   "execution_count": null,
   "metadata": {
    "collapsed": true
   },
   "outputs": [],
   "source": []
  },
  {
   "cell_type": "markdown",
   "metadata": {},
   "source": [
    "#### b) Reverse latitute and longtitute to address using reverse_geocoder library"
   ]
  },
  {
   "cell_type": "markdown",
   "metadata": {
    "collapsed": true
   },
   "source": [
    "Reverse geocode the given latitude / longitude<br>\n",
    "solution1 : https://github.com/thampiman/reverse-geocoder<br>\n",
    "solution2 : https://pypi.org/project/reverse_geocode/<br><br>\n",
    "Reverse Geocode takes a latitude / longitude coordinate and returns the country and city. Example usage:"
   ]
  },
  {
   "cell_type": "code",
   "execution_count": null,
   "metadata": {
    "collapsed": false
   },
   "outputs": [],
   "source": [
    "#solution1 : reverse_geocoder\n",
    "import reverse_geocoder as rg\n",
    "coordinates = (15.645143, 102.978200)\n",
    "results = rg.search(coordinates) # default mode = 2\n",
    "print(results)"
   ]
  },
  {
   "cell_type": "code",
   "execution_count": null,
   "metadata": {
    "collapsed": false
   },
   "outputs": [],
   "source": [
    "#solution2 : reverse_geocode (faster than reverse_geocoder)\n",
    "import reverse_geocode\n",
    "coordinates = (15.645143, 102.978200),\n",
    "addr = reverse_geocode.search(coordinates) \n",
    "print(addr)\n",
    "print(addr[0]['city'])"
   ]
  },
  {
   "cell_type": "code",
   "execution_count": null,
   "metadata": {
    "collapsed": false
   },
   "outputs": [],
   "source": [
    "%%time\n",
    "\n",
    "district_list = []\n",
    "province_list = []\n",
    "\n",
    "def reverse_geo(x):\n",
    "    try:\n",
    "        if rg.search( (  float(x[0]),   float(x[1])  ) )[0]['name'] is not None : district_list.append(rg.search( (  float(x[0]),   float(x[1])  ) )[0]['name'])\n",
    "        if rg.search( (  float(x[0]),   float(x[1])  ) )[0]['admin1'] is not None : province_list.append(rg.search( (  float(x[0]),   float(x[1])  ) )[0]['admin1'])\n",
    "    except:\n",
    "        district_list.append('')\n",
    "        province_list.append('')\n",
    "        \n",
    "#df_2014[['GIS_LAT','GIS_LNG']].apply(reverse_geo, axis=1)\n",
    "df_2014[['GIS_LAT','GIS_LNG']][:10].apply(reverse_geo, axis=1)"
   ]
  },
  {
   "cell_type": "code",
   "execution_count": null,
   "metadata": {
    "collapsed": false
   },
   "outputs": [],
   "source": [
    "province_list[:10]"
   ]
  },
  {
   "cell_type": "code",
   "execution_count": null,
   "metadata": {
    "collapsed": false
   },
   "outputs": [],
   "source": [
    "#df_2014['district'] = district_list\n",
    "#df_2014['province'] = province_list"
   ]
  },
  {
   "cell_type": "markdown",
   "metadata": {},
   "source": [
    "#### c) Write prepared data to excle file"
   ]
  },
  {
   "cell_type": "code",
   "execution_count": null,
   "metadata": {
    "collapsed": true
   },
   "outputs": [],
   "source": [
    "#writer = pd.ExcelWriter('../Data/AccidentData/accident_gis_province_2014.xlsx')\n",
    "#df_2014.to_excel(writer,'Sheet1')\n",
    "#writer.save()"
   ]
  },
  {
   "cell_type": "markdown",
   "metadata": {},
   "source": [
    "#### d) Read data from excle file"
   ]
  },
  {
   "cell_type": "code",
   "execution_count": null,
   "metadata": {
    "collapsed": false
   },
   "outputs": [],
   "source": [
    "df_prep = pd.read_excel('../Data/AccidentData/accident_gis_province_2014.xlsx')"
   ]
  },
  {
   "cell_type": "markdown",
   "metadata": {},
   "source": [
    "#### e) Data Conversion\n",
    "\n",
    "ROADTYPE_ID [0-5,90]\tสภาพถนน\t\n",
    "- 1 = 'ถนนกรมทางหลวง'\n",
    "- 2 = 'ถนนกรมทางหลวงชนบท'\n",
    "- 3 = 'ถนนในเมือง (เทศบาล)'\n",
    "- 4 = 'ถนนใน อบต. / หมู่บ้าน'\n",
    "- 5 = 'อื่นๆ'\n",
    "\n",
    "ROADSKIN_ID [0-5,90]\tผิวถนน\t\n",
    "- 1 = 'แห้ง'\n",
    "- 2 = 'เปียก'\n",
    "- 3 = 'เป็นคลื่น / หลุมบ่อ'\n",
    "- 4 = 'อื่นๆ'\n",
    "\n",
    "ACDPOINT_ID [0-5,90]\tจุดเกิดอุบัติเหตุ\t\n",
    "- 1 = 'ทางตรง'\n",
    "- 2 = 'ทางโค้ง'\n",
    "- 3 = 'ทางแยก'\n",
    "- 4 = 'ทางคนข้าม'\n",
    "- 5 = 'ทางมีสิ่งกีดขวาง'\n",
    "- 6 = 'อื่นๆ'\n",
    "\n",
    "ATMOSPHERE_ID [0-4,90]\tสภาพอากาศ\t\n",
    "- 1 = 'แจ่มใส'\n",
    "- 2 = 'มีหมอก'\n",
    "- 3 = 'ฝนตก'\n",
    "- 4 = 'ควัน / ฝุ่น'\n",
    "- 5 = 'อื่นๆ'\n",
    "\n",
    "LIGHT_ID [0-3,90]\tแสงในขณะเกิดอุบัติเหตุ\t\n",
    "- 1 = 'กลางวัน'\n",
    "- 2 = 'กลางคืนมีแสงไฟฟ้า'\n",
    "- 3 = 'กลางคืนไม่มีแสงไฟฟ้า'\n",
    "- 4 = 'อื่นๆ'"
   ]
  },
  {
   "cell_type": "code",
   "execution_count": null,
   "metadata": {
    "collapsed": false
   },
   "outputs": [],
   "source": [
    "## ROADTYPE_ID [0-5,90] สภาพถนน\n",
    "road = []\n",
    "for x in df_prep['ROADTYPE_ID']:\n",
    "    if x == 1 :\n",
    "        road.append('ถนนกรมทางหลวง')\n",
    "    elif x == 2 :\n",
    "        road.append('ถนนกรมทางหลวงชนบท')\n",
    "    elif x == 3 :\n",
    "        road.append('ถนนในเมือง')\n",
    "    elif x == 4 :\n",
    "        road.append('ถนนในหมู่บ้าน')\n",
    "    else :\n",
    "        road.append('อื่นๆ')"
   ]
  },
  {
   "cell_type": "code",
   "execution_count": null,
   "metadata": {
    "collapsed": true
   },
   "outputs": [],
   "source": [
    "## ROADSKIN_ID [0-5,90] ผิวถนน\n",
    "\n",
    "road_skin = []\n",
    "for x in df_prep['ROADSKIN_ID']:\n",
    "    if x == 1 :\n",
    "        road_skin.append('แห้ง')\n",
    "    elif x == 2 :\n",
    "        road_skin.append('เปียก')\n",
    "    elif x == 3 :\n",
    "        road_skin.append('เป็นคลื่น')\n",
    "    else :\n",
    "        road_skin.append('อื่นๆ')"
   ]
  },
  {
   "cell_type": "code",
   "execution_count": null,
   "metadata": {
    "collapsed": true
   },
   "outputs": [],
   "source": [
    "## ACDPOINT_ID [0-5,90] จุดเกิดอุบัติเหตุ\n",
    "\n",
    "acdpoint = []\n",
    "for x in df_prep['ACDPOINT_ID']:\n",
    "    if x == 1 :\n",
    "        acdpoint.append('ทางตรง')\n",
    "    elif x == 2 :\n",
    "        acdpoint.append('ทางโค้ง')\n",
    "    elif x == 3 :\n",
    "        acdpoint.append('ทางแยก')\n",
    "    elif x == 4 :\n",
    "        acdpoint.append('ทางคนข้าม')\n",
    "    elif x == 5 :\n",
    "        acdpoint.append('ทางมีสิ่งกีดขวาง')\n",
    "    else :\n",
    "        acdpoint.append('อื่นๆ')"
   ]
  },
  {
   "cell_type": "code",
   "execution_count": null,
   "metadata": {
    "collapsed": true
   },
   "outputs": [],
   "source": [
    "## ATMOSPHERE_ID [0-4,90] สภาพอากาศ\n",
    "\n",
    "atmos = []\n",
    "for x in df_prep['ATMOSPHERE_ID']:\n",
    "    if x == 1 :\n",
    "        atmos.append('แจ่มใส')\n",
    "    elif x == 2 :\n",
    "        atmos.append('มีหมอก')\n",
    "    elif x == 3 :\n",
    "        atmos.append('ฝนตก')\n",
    "    elif x == 4 :\n",
    "        atmos.append('ควันฝุ่น')\n",
    "    else :\n",
    "        atmos.append('อื่นๆ') "
   ]
  },
  {
   "cell_type": "code",
   "execution_count": null,
   "metadata": {
    "collapsed": true
   },
   "outputs": [],
   "source": [
    "## LIGHT_ID [0-3,90] แสงในขณะเกิดอุบัติเหตุ\n",
    "ligth = []\n",
    "for x in df_prep['LIGHT_ID']:\n",
    "    if x == 1 :\n",
    "        ligth.append('กลางวัน')\n",
    "    elif x == 2 :\n",
    "        ligth.append('กลางคืนมีแสงไฟฟ้า')\n",
    "    elif x == 3 :\n",
    "        ligth.append('กลางคืนไม่มีแสงไฟฟ้า')\n",
    "    else :\n",
    "        ligth.append('อื่นๆ')          "
   ]
  },
  {
   "cell_type": "markdown",
   "metadata": {},
   "source": [
    "#### f) Write converted data to DataFrame"
   ]
  },
  {
   "cell_type": "code",
   "execution_count": null,
   "metadata": {
    "collapsed": true
   },
   "outputs": [],
   "source": [
    "df_prep['ROADTYPE_NAME'] = road             \n",
    "df_prep['ROADSKIN_NAME'] = road_skin\n",
    "df_prep['ACDPOINT_NAME'] = acdpoint\n",
    "df_prep['ATMOSPHERE_NAME'] = atmos\n",
    "df_prep['LIGHT_NAME'] = ligth"
   ]
  },
  {
   "cell_type": "code",
   "execution_count": null,
   "metadata": {
    "collapsed": false
   },
   "outputs": [],
   "source": [
    "df_prep.columns"
   ]
  },
  {
   "cell_type": "code",
   "execution_count": null,
   "metadata": {
    "collapsed": false
   },
   "outputs": [],
   "source": [
    "## select relevant columns\n",
    "select_cols = ['ACCIDENT_ID', 'ACCIDENT_MONTH', 'ACCIDENT_YEAR', 'ACCIDENT_COST', 'PERSON_GENDER','PERSON_AGE',\n",
    "               'province','ROADTYPE_NAME','ROADSKIN_NAME','ACDPOINT_NAME','ATMOSPHERE_NAME','LIGHT_NAME','HUMAN_ADMIT','HUMAN_DEAD']\n",
    "df_prep = df_prep[select_cols]\n",
    "\n",
    "## drop irrelevant columns\n",
    "#drop_cols = ['LOCATE_ID_DISTRICT','LOCATE_ID_POLICE','HUMAN_ADMIT','HUMAN_DEAD','ROADTYPE_ID']\n",
    "#df_prep = df_prep.drop(drop_cols, axis=1)"
   ]
  },
  {
   "cell_type": "code",
   "execution_count": null,
   "metadata": {
    "collapsed": false
   },
   "outputs": [],
   "source": [
    "df_prep.head()"
   ]
  },
  {
   "cell_type": "markdown",
   "metadata": {},
   "source": [
    "#### g) Sort value by province name"
   ]
  },
  {
   "cell_type": "code",
   "execution_count": null,
   "metadata": {
    "collapsed": false
   },
   "outputs": [],
   "source": [
    "df_prep['province'].value_counts().sort_values(ascending=False)"
   ]
  },
  {
   "cell_type": "markdown",
   "metadata": {},
   "source": [
    "#### h) Group by the data"
   ]
  },
  {
   "cell_type": "code",
   "execution_count": null,
   "metadata": {
    "collapsed": true
   },
   "outputs": [],
   "source": [
    "df_prep.groupby('province')[['ACCIDENT_COST']].sum()"
   ]
  },
  {
   "cell_type": "markdown",
   "metadata": {},
   "source": [
    "#### i) Write prepared data to excle file"
   ]
  },
  {
   "cell_type": "code",
   "execution_count": null,
   "metadata": {
    "collapsed": false
   },
   "outputs": [],
   "source": [
    "writer = pd.ExcelWriter('accident_2014_prep.xlsx')\n",
    "df_prep.to_excel(writer,'Sheet1')\n",
    "writer.save()"
   ]
  },
  {
   "cell_type": "markdown",
   "metadata": {},
   "source": [
    "<hr>\n",
    "<center>_Please get back to slide_</center>\n",
    "<hr>"
   ]
  },
  {
   "cell_type": "markdown",
   "metadata": {},
   "source": [
    "## Part 2: Visualizing the Data"
   ]
  },
  {
   "cell_type": "markdown",
   "metadata": {},
   "source": [
    "### Data Exploratory"
   ]
  },
  {
   "cell_type": "code",
   "execution_count": null,
   "metadata": {
    "collapsed": true
   },
   "outputs": [],
   "source": [
    "import seaborn as sns"
   ]
  },
  {
   "cell_type": "markdown",
   "metadata": {},
   "source": [
    "__a) อายุของคนที่เกิดอุบัติเหตุ__"
   ]
  },
  {
   "cell_type": "markdown",
   "metadata": {},
   "source": [
    "_Histogram_"
   ]
  },
  {
   "cell_type": "code",
   "execution_count": null,
   "metadata": {
    "collapsed": false
   },
   "outputs": [],
   "source": [
    "df_prep['PERSON_AGE'].plot(kind='hist', bins=10)"
   ]
  },
  {
   "cell_type": "markdown",
   "metadata": {},
   "source": [
    "_Quartile Chart_"
   ]
  },
  {
   "cell_type": "code",
   "execution_count": null,
   "metadata": {
    "collapsed": false,
    "scrolled": true
   },
   "outputs": [],
   "source": [
    "sns.boxplot(x=\"PERSON_AGE\", data=df_prep)"
   ]
  },
  {
   "cell_type": "markdown",
   "metadata": {},
   "source": [
    "_Filter age less than 100_"
   ]
  },
  {
   "cell_type": "code",
   "execution_count": null,
   "metadata": {
    "collapsed": false
   },
   "outputs": [],
   "source": [
    "df_prep = df_prep[df_prep['PERSON_AGE']<=100]"
   ]
  },
  {
   "cell_type": "code",
   "execution_count": null,
   "metadata": {
    "collapsed": false
   },
   "outputs": [],
   "source": [
    "sns.boxplot(x=\"PERSON_AGE\", data=df_prep)"
   ]
  },
  {
   "cell_type": "markdown",
   "metadata": {},
   "source": [
    "_Distribution Chart การกระจายตัวของอายุผู้ประสบอุบัติเหตุ_"
   ]
  },
  {
   "cell_type": "code",
   "execution_count": null,
   "metadata": {
    "collapsed": false
   },
   "outputs": [],
   "source": [
    "plt.rcParams['figure.figsize'] = 8, 5\n",
    "sns.distplot( df_prep['PERSON_AGE'] , bins=10)"
   ]
  },
  {
   "cell_type": "markdown",
   "metadata": {},
   "source": [
    "__b) จำนวนครั้งที่เกิดอุบัติเหตุ ในแต่ละเดือน__"
   ]
  },
  {
   "cell_type": "code",
   "execution_count": null,
   "metadata": {
    "collapsed": false
   },
   "outputs": [],
   "source": [
    "df_prep['ACCIDENT_MONTH'].plot(kind='hist', bins=12)"
   ]
  },
  {
   "cell_type": "markdown",
   "metadata": {
    "collapsed": true
   },
   "source": [
    "__c) จำนวนครั้งที่เกิดอุบัติเหตุ แบ่งตามจังหวัด__"
   ]
  },
  {
   "cell_type": "code",
   "execution_count": null,
   "metadata": {
    "collapsed": false
   },
   "outputs": [],
   "source": [
    "plt.rcParams['font.family'] = 'Tahoma'\n",
    "plt.rcParams['figure.figsize'] = 16, 5\n",
    "province_count = df_prep['province'].value_counts()[:40,]\n",
    "sns.barplot(province_count.index, province_count.values)\n",
    "plt.title('Number of Accidence', fontsize=16)\n",
    "plt.xlabel('Province', fontsize=18)\n",
    "plt.xticks(rotation=90)\n",
    "plt.show()"
   ]
  },
  {
   "cell_type": "markdown",
   "metadata": {},
   "source": [
    "__d) ถนนที่เกิดอุบัติเหตุบ่อยสุด __"
   ]
  },
  {
   "cell_type": "code",
   "execution_count": null,
   "metadata": {
    "collapsed": false
   },
   "outputs": [],
   "source": [
    "plt.rcParams['figure.figsize'] = 10, 5\n",
    "count_data = df_prep['ROADTYPE_NAME'].value_counts()\n",
    "sns.barplot(count_data.index, count_data.values)\n",
    "plt.title('Number of Accidence', fontsize=16)\n",
    "plt.xlabel('Roadtype', fontsize=18)\n",
    "plt.xticks()\n",
    "plt.show()"
   ]
  },
  {
   "cell_type": "markdown",
   "metadata": {},
   "source": [
    "__e) สภาพถนนที่เกิดอุบัติเหตุ__"
   ]
  },
  {
   "cell_type": "code",
   "execution_count": null,
   "metadata": {
    "collapsed": false
   },
   "outputs": [],
   "source": [
    "count_data = df_prep['ROADSKIN_NAME'].value_counts()\n",
    "sns.barplot(count_data.index, count_data.values)\n",
    "plt.title('Number of Accidence', fontsize=16)\n",
    "plt.xlabel('ROADSKIN_NAME', fontsize=18)\n",
    "plt.show()"
   ]
  },
  {
   "cell_type": "markdown",
   "metadata": {},
   "source": [
    "__f) จุดที่เกิดอุบัติเหตุ__"
   ]
  },
  {
   "cell_type": "code",
   "execution_count": null,
   "metadata": {
    "collapsed": false
   },
   "outputs": [],
   "source": [
    "count_data = df_prep['ACDPOINT_NAME'].value_counts()\n",
    "sns.barplot(count_data.index, count_data.values)\n",
    "plt.title('Number of Accidence', fontsize=16)\n",
    "plt.xlabel('ACDPOINT_NAME', fontsize=18)\n",
    "plt.show()"
   ]
  },
  {
   "cell_type": "markdown",
   "metadata": {},
   "source": [
    "__g) สภาพอากาศที่เกิดอุบัติเหตุ__"
   ]
  },
  {
   "cell_type": "code",
   "execution_count": null,
   "metadata": {
    "collapsed": false
   },
   "outputs": [],
   "source": [
    "count_data = df_prep['ATMOSPHERE_NAME'].value_counts()\n",
    "sns.barplot(count_data.index, count_data.values)\n",
    "plt.title('Number of Accidence', fontsize=16)\n",
    "plt.xlabel('ATMOSPHERE_NAME', fontsize=18)\n",
    "plt.show()"
   ]
  },
  {
   "cell_type": "markdown",
   "metadata": {},
   "source": [
    "__h) แสงไฟที่เกิดอุบัติเหตุ__"
   ]
  },
  {
   "cell_type": "code",
   "execution_count": null,
   "metadata": {
    "collapsed": false
   },
   "outputs": [],
   "source": [
    "count_data = df_prep['LIGHT_NAME'].value_counts()\n",
    "sns.barplot(count_data.index, count_data.values)\n",
    "plt.title('Number of Accidence', fontsize=16)\n",
    "plt.xlabel('LIGHT_NAME', fontsize=18)\n",
    "plt.show()    "
   ]
  },
  {
   "cell_type": "code",
   "execution_count": null,
   "metadata": {
    "collapsed": false
   },
   "outputs": [],
   "source": [
    "plt.rcParams['font.family']='Tahoma'\n",
    "pd.value_counts(df_prep['LIGHT_NAME']).plot.bar()\n",
    "plt.xticks(rotation=0)"
   ]
  },
  {
   "cell_type": "markdown",
   "metadata": {},
   "source": [
    "#### i) Scatter plot"
   ]
  },
  {
   "cell_type": "code",
   "execution_count": null,
   "metadata": {
    "collapsed": false
   },
   "outputs": [],
   "source": [
    "ax = sns.lmplot(x='ACCIDENT_COST', y=\"PERSON_AGE\", data=df_prep)"
   ]
  },
  {
   "cell_type": "markdown",
   "metadata": {},
   "source": [
    "#### j) Data Correlation"
   ]
  },
  {
   "cell_type": "code",
   "execution_count": null,
   "metadata": {
    "collapsed": true
   },
   "outputs": [],
   "source": [
    "data_corr = df_prep.corr()"
   ]
  },
  {
   "cell_type": "code",
   "execution_count": null,
   "metadata": {
    "collapsed": false
   },
   "outputs": [],
   "source": [
    "import numpy as np\n",
    "fig = plt.figure(figsize=(10, 10))\n",
    "ax = fig.add_subplot(111)\n",
    "cax = ax.matshow(data_corr, vmin=-1, vmax=1)\n",
    "\n",
    "feature_names =list(data_corr.columns)\n",
    "fig.colorbar(cax)\n",
    "ticks = np.arange(0,len(data_corr.columns),1)\n",
    "ax.set_xticks(ticks)\n",
    "ax.set_yticks(ticks)\n",
    "\n",
    "ax.set_xticklabels(feature_names)\n",
    "ax.set_yticklabels(feature_names)\n",
    "\n",
    "plt.xticks(rotation=90)\n",
    "plt.show()"
   ]
  },
  {
   "cell_type": "markdown",
   "metadata": {
    "collapsed": true
   },
   "source": [
    "---"
   ]
  }
 ],
 "metadata": {
  "kernelspec": {
   "display_name": "Python 3",
   "language": "python",
   "name": "python3"
  },
  "language_info": {
   "codemirror_mode": {
    "name": "ipython",
    "version": 3
   },
   "file_extension": ".py",
   "mimetype": "text/x-python",
   "name": "python",
   "nbconvert_exporter": "python",
   "pygments_lexer": "ipython3",
   "version": "3.6.0"
  }
 },
 "nbformat": 4,
 "nbformat_minor": 2
}
