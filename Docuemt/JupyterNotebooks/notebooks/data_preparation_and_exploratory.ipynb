{
 "cells": [
  {
   "cell_type": "markdown",
   "metadata": {},
   "source": [
    "# Machine Learning for Data Science: Data Preparation and Exploratory"
   ]
  },
  {
   "cell_type": "markdown",
   "metadata": {},
   "source": [
    "## Objectives\n",
    "- Part 1: Analyzing the Data\n",
    "- Part 2: Visualizing the Data\n",
    "<br><br>\n",
    "In this lab, you will import a data set into a pandas frame and generate descriptive statistics from the data. You will format text strings report the descriptive statistics and generate a plot of the data. Finally, you will experiment with parameters of the graph to become familiar with plotting data using the matplotlib.pyplot libary."
   ]
  },
  {
   "cell_type": "markdown",
   "metadata": {},
   "source": [
    "## Part 1: Analyzing the Data"
   ]
  },
  {
   "cell_type": "markdown",
   "metadata": {},
   "source": [
    "### Step 1: Setup the environment and import data. \n",
    "\n",
    "First, you will import the modules and set up the enivronment to display matplotlib output to the notebook page. <br>\n",
    "Then, you will use pandas to import data from a csv file into a dataframe. <br>"
   ]
  },
  {
   "cell_type": "markdown",
   "metadata": {},
   "source": [
    "__a) Import modules and set up the environment.__"
   ]
  },
  {
   "cell_type": "code",
   "execution_count": 1,
   "metadata": {
    "collapsed": true
   },
   "outputs": [],
   "source": [
    "%matplotlib inline\n",
    "import pandas as pd\n",
    "import matplotlib.pyplot as plt"
   ]
  },
  {
   "cell_type": "markdown",
   "metadata": {},
   "source": [
    "__b) Load dataset.__"
   ]
  },
  {
   "cell_type": "code",
   "execution_count": 2,
   "metadata": {
    "collapsed": true
   },
   "outputs": [],
   "source": [
    "import pandas as pd\n",
    "df = pd.read_excel('accident_data.xlsx')"
   ]
  },
  {
   "cell_type": "code",
   "execution_count": 3,
   "metadata": {
    "collapsed": false
   },
   "outputs": [
    {
     "data": {
      "text/html": [
       "<div>\n",
       "<style scoped>\n",
       "    .dataframe tbody tr th:only-of-type {\n",
       "        vertical-align: middle;\n",
       "    }\n",
       "\n",
       "    .dataframe tbody tr th {\n",
       "        vertical-align: top;\n",
       "    }\n",
       "\n",
       "    .dataframe thead th {\n",
       "        text-align: right;\n",
       "    }\n",
       "</style>\n",
       "<table border=\"1\" class=\"dataframe\">\n",
       "  <thead>\n",
       "    <tr style=\"text-align: right;\">\n",
       "      <th></th>\n",
       "      <th>ACCIDENT_ID</th>\n",
       "      <th>LOCATE_ID_DISTRICT</th>\n",
       "      <th>LOCATE_ID_POLICE</th>\n",
       "      <th>ACCIDENT_MONTH</th>\n",
       "      <th>ACCIDENT_YEAR</th>\n",
       "      <th>ACCIDENT_COST</th>\n",
       "      <th>HUMAN_ADMIT</th>\n",
       "      <th>HUMAN_DEAD</th>\n",
       "      <th>ROADTYPE_ID</th>\n",
       "      <th>ROADSKIN_ID</th>\n",
       "      <th>...</th>\n",
       "      <th>PERSON_GENDER</th>\n",
       "      <th>PERSON_AGE</th>\n",
       "      <th>PERSON_NATIONAL</th>\n",
       "      <th>PERSON_TYPE</th>\n",
       "      <th>PERSON_STATE</th>\n",
       "      <th>LOCATE_PROVINCE</th>\n",
       "      <th>LOCATE_DOMICILE</th>\n",
       "      <th>LOCATE_AREATYPE</th>\n",
       "      <th>HEALTH_DEADPLACE</th>\n",
       "      <th>HEALTH_EMSSEND</th>\n",
       "    </tr>\n",
       "  </thead>\n",
       "  <tbody>\n",
       "    <tr>\n",
       "      <th>0</th>\n",
       "      <td>1</td>\n",
       "      <td>100298</td>\n",
       "      <td>0</td>\n",
       "      <td>7</td>\n",
       "      <td>14</td>\n",
       "      <td>15000000</td>\n",
       "      <td>0</td>\n",
       "      <td>2</td>\n",
       "      <td>1</td>\n",
       "      <td>90</td>\n",
       "      <td>...</td>\n",
       "      <td>1</td>\n",
       "      <td>83</td>\n",
       "      <td>ไทย</td>\n",
       "      <td>2</td>\n",
       "      <td>1</td>\n",
       "      <td>1040</td>\n",
       "      <td>1040</td>\n",
       "      <td>0</td>\n",
       "      <td>10</td>\n",
       "      <td>50</td>\n",
       "    </tr>\n",
       "    <tr>\n",
       "      <th>1</th>\n",
       "      <td>2</td>\n",
       "      <td>100298</td>\n",
       "      <td>0</td>\n",
       "      <td>7</td>\n",
       "      <td>14</td>\n",
       "      <td>15000000</td>\n",
       "      <td>0</td>\n",
       "      <td>2</td>\n",
       "      <td>1</td>\n",
       "      <td>90</td>\n",
       "      <td>...</td>\n",
       "      <td>1</td>\n",
       "      <td>80</td>\n",
       "      <td>ไทย</td>\n",
       "      <td>3</td>\n",
       "      <td>1</td>\n",
       "      <td>1040</td>\n",
       "      <td>1040</td>\n",
       "      <td>0</td>\n",
       "      <td>10</td>\n",
       "      <td>40</td>\n",
       "    </tr>\n",
       "    <tr>\n",
       "      <th>2</th>\n",
       "      <td>3</td>\n",
       "      <td>100856</td>\n",
       "      <td>0</td>\n",
       "      <td>8</td>\n",
       "      <td>14</td>\n",
       "      <td>59000</td>\n",
       "      <td>1</td>\n",
       "      <td>0</td>\n",
       "      <td>4</td>\n",
       "      <td>1</td>\n",
       "      <td>...</td>\n",
       "      <td>1</td>\n",
       "      <td>60</td>\n",
       "      <td>ไทย</td>\n",
       "      <td>2</td>\n",
       "      <td>0</td>\n",
       "      <td>1086</td>\n",
       "      <td>1086</td>\n",
       "      <td>0</td>\n",
       "      <td>0</td>\n",
       "      <td>60</td>\n",
       "    </tr>\n",
       "    <tr>\n",
       "      <th>3</th>\n",
       "      <td>4</td>\n",
       "      <td>100096</td>\n",
       "      <td>0</td>\n",
       "      <td>11</td>\n",
       "      <td>16</td>\n",
       "      <td>0</td>\n",
       "      <td>1</td>\n",
       "      <td>0</td>\n",
       "      <td>3</td>\n",
       "      <td>1</td>\n",
       "      <td>...</td>\n",
       "      <td>1</td>\n",
       "      <td>68</td>\n",
       "      <td>ไทย</td>\n",
       "      <td>2</td>\n",
       "      <td>0</td>\n",
       "      <td>1023</td>\n",
       "      <td>1023</td>\n",
       "      <td>0</td>\n",
       "      <td>0</td>\n",
       "      <td>20</td>\n",
       "    </tr>\n",
       "    <tr>\n",
       "      <th>4</th>\n",
       "      <td>5</td>\n",
       "      <td>100323</td>\n",
       "      <td>0</td>\n",
       "      <td>8</td>\n",
       "      <td>16</td>\n",
       "      <td>0</td>\n",
       "      <td>1</td>\n",
       "      <td>0</td>\n",
       "      <td>4</td>\n",
       "      <td>1</td>\n",
       "      <td>...</td>\n",
       "      <td>2</td>\n",
       "      <td>10</td>\n",
       "      <td>ไทย</td>\n",
       "      <td>2</td>\n",
       "      <td>0</td>\n",
       "      <td>1042</td>\n",
       "      <td>1042</td>\n",
       "      <td>0</td>\n",
       "      <td>0</td>\n",
       "      <td>50</td>\n",
       "    </tr>\n",
       "  </tbody>\n",
       "</table>\n",
       "<p>5 rows × 27 columns</p>\n",
       "</div>"
      ],
      "text/plain": [
       "   ACCIDENT_ID  LOCATE_ID_DISTRICT  LOCATE_ID_POLICE  ACCIDENT_MONTH  \\\n",
       "0            1              100298                 0               7   \n",
       "1            2              100298                 0               7   \n",
       "2            3              100856                 0               8   \n",
       "3            4              100096                 0              11   \n",
       "4            5              100323                 0               8   \n",
       "\n",
       "   ACCIDENT_YEAR  ACCIDENT_COST  HUMAN_ADMIT  HUMAN_DEAD  ROADTYPE_ID  \\\n",
       "0             14       15000000            0           2            1   \n",
       "1             14       15000000            0           2            1   \n",
       "2             14          59000            1           0            4   \n",
       "3             16              0            1           0            3   \n",
       "4             16              0            1           0            4   \n",
       "\n",
       "   ROADSKIN_ID      ...        PERSON_GENDER  PERSON_AGE  PERSON_NATIONAL  \\\n",
       "0           90      ...                    1          83              ไทย   \n",
       "1           90      ...                    1          80              ไทย   \n",
       "2            1      ...                    1          60              ไทย   \n",
       "3            1      ...                    1          68              ไทย   \n",
       "4            1      ...                    2          10              ไทย   \n",
       "\n",
       "   PERSON_TYPE  PERSON_STATE  LOCATE_PROVINCE  LOCATE_DOMICILE  \\\n",
       "0            2             1             1040             1040   \n",
       "1            3             1             1040             1040   \n",
       "2            2             0             1086             1086   \n",
       "3            2             0             1023             1023   \n",
       "4            2             0             1042             1042   \n",
       "\n",
       "   LOCATE_AREATYPE  HEALTH_DEADPLACE HEALTH_EMSSEND  \n",
       "0                0                10             50  \n",
       "1                0                10             40  \n",
       "2                0                 0             60  \n",
       "3                0                 0             20  \n",
       "4                0                 0             50  \n",
       "\n",
       "[5 rows x 27 columns]"
      ]
     },
     "execution_count": 3,
     "metadata": {},
     "output_type": "execute_result"
    }
   ],
   "source": [
    "df.head()"
   ]
  },
  {
   "cell_type": "code",
   "execution_count": 8,
   "metadata": {
    "collapsed": false
   },
   "outputs": [
    {
     "data": {
      "text/plain": [
       "Index(['ACCIDENT_ID', 'LOCATE_ID_DISTRICT', 'LOCATE_ID_POLICE',\n",
       "       'ACCIDENT_MONTH', 'ACCIDENT_YEAR', 'ACCIDENT_COST', 'HUMAN_ADMIT',\n",
       "       'HUMAN_DEAD', 'ROADTYPE_ID', 'ROADSKIN_ID', 'ACDPOINT_ID',\n",
       "       'ATMOSPHERE_ID', 'LIGHT_ID', 'GIS_E', 'GIS_N', 'GIS_LAT', 'GIS_LNG',\n",
       "       'PERSON_GENDER', 'PERSON_AGE', 'PERSON_NATIONAL', 'PERSON_TYPE',\n",
       "       'PERSON_STATE', 'LOCATE_PROVINCE', 'LOCATE_DOMICILE', 'LOCATE_AREATYPE',\n",
       "       'HEALTH_DEADPLACE', 'HEALTH_EMSSEND'],\n",
       "      dtype='object')"
      ]
     },
     "execution_count": 8,
     "metadata": {},
     "output_type": "execute_result"
    }
   ],
   "source": [
    "df.columns"
   ]
  },
  {
   "cell_type": "code",
   "execution_count": 9,
   "metadata": {
    "collapsed": false
   },
   "outputs": [
    {
     "data": {
      "text/plain": [
       "(177816, 27)"
      ]
     },
     "execution_count": 9,
     "metadata": {},
     "output_type": "execute_result"
    }
   ],
   "source": [
    "df.shape"
   ]
  },
  {
   "cell_type": "code",
   "execution_count": 10,
   "metadata": {
    "collapsed": false
   },
   "outputs": [
    {
     "data": {
      "text/plain": [
       "4801032"
      ]
     },
     "execution_count": 10,
     "metadata": {},
     "output_type": "execute_result"
    }
   ],
   "source": [
    "df.size"
   ]
  },
  {
   "cell_type": "markdown",
   "metadata": {},
   "source": [
    "### Step 2: Data Understanding. "
   ]
  },
  {
   "cell_type": "markdown",
   "metadata": {},
   "source": [
    "The goal of the first part of the lab is to use pandas methods to import a dataset and generate the following descriptive statistics:\n",
    "\n",
    "1. sample size\n",
    "2. mean\n",
    "3. median\n",
    "4. standard deviation\n",
    "5. minimum, maximum, and range of values"
   ]
  },
  {
   "cell_type": "markdown",
   "metadata": {},
   "source": [
    "#### a) Descriptive statistics"
   ]
  },
  {
   "cell_type": "code",
   "execution_count": 4,
   "metadata": {
    "collapsed": false
   },
   "outputs": [
    {
     "data": {
      "text/html": [
       "<div>\n",
       "<style scoped>\n",
       "    .dataframe tbody tr th:only-of-type {\n",
       "        vertical-align: middle;\n",
       "    }\n",
       "\n",
       "    .dataframe tbody tr th {\n",
       "        vertical-align: top;\n",
       "    }\n",
       "\n",
       "    .dataframe thead th {\n",
       "        text-align: right;\n",
       "    }\n",
       "</style>\n",
       "<table border=\"1\" class=\"dataframe\">\n",
       "  <thead>\n",
       "    <tr style=\"text-align: right;\">\n",
       "      <th></th>\n",
       "      <th>ACCIDENT_ID</th>\n",
       "      <th>LOCATE_ID_DISTRICT</th>\n",
       "      <th>LOCATE_ID_POLICE</th>\n",
       "      <th>ACCIDENT_MONTH</th>\n",
       "      <th>ACCIDENT_YEAR</th>\n",
       "      <th>ACCIDENT_COST</th>\n",
       "      <th>HUMAN_ADMIT</th>\n",
       "      <th>HUMAN_DEAD</th>\n",
       "      <th>ROADTYPE_ID</th>\n",
       "      <th>ROADSKIN_ID</th>\n",
       "      <th>...</th>\n",
       "      <th>GIS_LNG</th>\n",
       "      <th>PERSON_GENDER</th>\n",
       "      <th>PERSON_AGE</th>\n",
       "      <th>PERSON_TYPE</th>\n",
       "      <th>PERSON_STATE</th>\n",
       "      <th>LOCATE_PROVINCE</th>\n",
       "      <th>LOCATE_DOMICILE</th>\n",
       "      <th>LOCATE_AREATYPE</th>\n",
       "      <th>HEALTH_DEADPLACE</th>\n",
       "      <th>HEALTH_EMSSEND</th>\n",
       "    </tr>\n",
       "  </thead>\n",
       "  <tbody>\n",
       "    <tr>\n",
       "      <th>count</th>\n",
       "      <td>177816.00000</td>\n",
       "      <td>177816.000000</td>\n",
       "      <td>177816.000000</td>\n",
       "      <td>177816.000000</td>\n",
       "      <td>177816.000000</td>\n",
       "      <td>1.778160e+05</td>\n",
       "      <td>177816.000000</td>\n",
       "      <td>177816.000000</td>\n",
       "      <td>177816.000000</td>\n",
       "      <td>177816.000000</td>\n",
       "      <td>...</td>\n",
       "      <td>177816.000000</td>\n",
       "      <td>177816.00000</td>\n",
       "      <td>177816.000000</td>\n",
       "      <td>177816.000000</td>\n",
       "      <td>177816.000000</td>\n",
       "      <td>177816.000000</td>\n",
       "      <td>177816.00000</td>\n",
       "      <td>177816.000000</td>\n",
       "      <td>177816.000000</td>\n",
       "      <td>177816.000000</td>\n",
       "    </tr>\n",
       "    <tr>\n",
       "      <th>mean</th>\n",
       "      <td>88908.50000</td>\n",
       "      <td>100569.449448</td>\n",
       "      <td>322.110896</td>\n",
       "      <td>6.049787</td>\n",
       "      <td>11.180642</td>\n",
       "      <td>5.940954e+05</td>\n",
       "      <td>1.007766</td>\n",
       "      <td>0.302864</td>\n",
       "      <td>5.826798</td>\n",
       "      <td>7.566861</td>\n",
       "      <td>...</td>\n",
       "      <td>100.331161</td>\n",
       "      <td>1.27335</td>\n",
       "      <td>32.771680</td>\n",
       "      <td>2.340149</td>\n",
       "      <td>0.199487</td>\n",
       "      <td>1046.759066</td>\n",
       "      <td>1021.86585</td>\n",
       "      <td>0.421340</td>\n",
       "      <td>5.270392</td>\n",
       "      <td>40.009701</td>\n",
       "    </tr>\n",
       "    <tr>\n",
       "      <th>std</th>\n",
       "      <td>51331.20207</td>\n",
       "      <td>257.836399</td>\n",
       "      <td>5695.174313</td>\n",
       "      <td>3.863093</td>\n",
       "      <td>3.573843</td>\n",
       "      <td>2.543118e+06</td>\n",
       "      <td>1.697310</td>\n",
       "      <td>0.957188</td>\n",
       "      <td>17.383798</td>\n",
       "      <td>22.979591</td>\n",
       "      <td>...</td>\n",
       "      <td>5.806822</td>\n",
       "      <td>0.44568</td>\n",
       "      <td>35.314038</td>\n",
       "      <td>0.998113</td>\n",
       "      <td>0.412932</td>\n",
       "      <td>120.399033</td>\n",
       "      <td>198.48147</td>\n",
       "      <td>0.709553</td>\n",
       "      <td>8.157409</td>\n",
       "      <td>19.188675</td>\n",
       "    </tr>\n",
       "    <tr>\n",
       "      <th>min</th>\n",
       "      <td>1.00000</td>\n",
       "      <td>100031.000000</td>\n",
       "      <td>0.000000</td>\n",
       "      <td>1.000000</td>\n",
       "      <td>5.000000</td>\n",
       "      <td>0.000000e+00</td>\n",
       "      <td>0.000000</td>\n",
       "      <td>0.000000</td>\n",
       "      <td>0.000000</td>\n",
       "      <td>0.000000</td>\n",
       "      <td>...</td>\n",
       "      <td>-986.752524</td>\n",
       "      <td>1.00000</td>\n",
       "      <td>0.000000</td>\n",
       "      <td>1.000000</td>\n",
       "      <td>0.000000</td>\n",
       "      <td>0.000000</td>\n",
       "      <td>0.00000</td>\n",
       "      <td>0.000000</td>\n",
       "      <td>0.000000</td>\n",
       "      <td>0.000000</td>\n",
       "    </tr>\n",
       "    <tr>\n",
       "      <th>25%</th>\n",
       "      <td>44454.75000</td>\n",
       "      <td>100347.000000</td>\n",
       "      <td>0.000000</td>\n",
       "      <td>4.000000</td>\n",
       "      <td>8.000000</td>\n",
       "      <td>0.000000e+00</td>\n",
       "      <td>0.000000</td>\n",
       "      <td>0.000000</td>\n",
       "      <td>1.000000</td>\n",
       "      <td>1.000000</td>\n",
       "      <td>...</td>\n",
       "      <td>99.400447</td>\n",
       "      <td>1.00000</td>\n",
       "      <td>19.000000</td>\n",
       "      <td>2.000000</td>\n",
       "      <td>0.000000</td>\n",
       "      <td>1041.000000</td>\n",
       "      <td>1041.00000</td>\n",
       "      <td>0.000000</td>\n",
       "      <td>0.000000</td>\n",
       "      <td>20.000000</td>\n",
       "    </tr>\n",
       "    <tr>\n",
       "      <th>50%</th>\n",
       "      <td>88908.50000</td>\n",
       "      <td>100623.000000</td>\n",
       "      <td>0.000000</td>\n",
       "      <td>4.000000</td>\n",
       "      <td>12.000000</td>\n",
       "      <td>5.000000e+03</td>\n",
       "      <td>1.000000</td>\n",
       "      <td>0.000000</td>\n",
       "      <td>2.000000</td>\n",
       "      <td>1.000000</td>\n",
       "      <td>...</td>\n",
       "      <td>100.177741</td>\n",
       "      <td>1.00000</td>\n",
       "      <td>29.000000</td>\n",
       "      <td>2.000000</td>\n",
       "      <td>0.000000</td>\n",
       "      <td>1061.000000</td>\n",
       "      <td>1059.00000</td>\n",
       "      <td>0.000000</td>\n",
       "      <td>0.000000</td>\n",
       "      <td>40.000000</td>\n",
       "    </tr>\n",
       "    <tr>\n",
       "      <th>75%</th>\n",
       "      <td>133362.25000</td>\n",
       "      <td>100784.000000</td>\n",
       "      <td>0.000000</td>\n",
       "      <td>10.000000</td>\n",
       "      <td>14.000000</td>\n",
       "      <td>5.900000e+04</td>\n",
       "      <td>1.000000</td>\n",
       "      <td>0.000000</td>\n",
       "      <td>4.000000</td>\n",
       "      <td>1.000000</td>\n",
       "      <td>...</td>\n",
       "      <td>101.762272</td>\n",
       "      <td>2.00000</td>\n",
       "      <td>44.000000</td>\n",
       "      <td>3.000000</td>\n",
       "      <td>0.000000</td>\n",
       "      <td>1077.000000</td>\n",
       "      <td>1076.00000</td>\n",
       "      <td>1.000000</td>\n",
       "      <td>10.000000</td>\n",
       "      <td>50.000000</td>\n",
       "    </tr>\n",
       "    <tr>\n",
       "      <th>max</th>\n",
       "      <td>177816.00000</td>\n",
       "      <td>100966.000000</td>\n",
       "      <td>101065.000000</td>\n",
       "      <td>12.000000</td>\n",
       "      <td>19.000000</td>\n",
       "      <td>9.000000e+07</td>\n",
       "      <td>47.000000</td>\n",
       "      <td>82.000000</td>\n",
       "      <td>90.000000</td>\n",
       "      <td>90.000000</td>\n",
       "      <td>...</td>\n",
       "      <td>738.952467</td>\n",
       "      <td>2.00000</td>\n",
       "      <td>9999.000000</td>\n",
       "      <td>9.000000</td>\n",
       "      <td>2.000000</td>\n",
       "      <td>1096.000000</td>\n",
       "      <td>1096.00000</td>\n",
       "      <td>3.000000</td>\n",
       "      <td>30.000000</td>\n",
       "      <td>99.000000</td>\n",
       "    </tr>\n",
       "  </tbody>\n",
       "</table>\n",
       "<p>8 rows × 26 columns</p>\n",
       "</div>"
      ],
      "text/plain": [
       "        ACCIDENT_ID  LOCATE_ID_DISTRICT  LOCATE_ID_POLICE  ACCIDENT_MONTH  \\\n",
       "count  177816.00000       177816.000000     177816.000000   177816.000000   \n",
       "mean    88908.50000       100569.449448        322.110896        6.049787   \n",
       "std     51331.20207          257.836399       5695.174313        3.863093   \n",
       "min         1.00000       100031.000000          0.000000        1.000000   \n",
       "25%     44454.75000       100347.000000          0.000000        4.000000   \n",
       "50%     88908.50000       100623.000000          0.000000        4.000000   \n",
       "75%    133362.25000       100784.000000          0.000000       10.000000   \n",
       "max    177816.00000       100966.000000     101065.000000       12.000000   \n",
       "\n",
       "       ACCIDENT_YEAR  ACCIDENT_COST    HUMAN_ADMIT     HUMAN_DEAD  \\\n",
       "count  177816.000000   1.778160e+05  177816.000000  177816.000000   \n",
       "mean       11.180642   5.940954e+05       1.007766       0.302864   \n",
       "std         3.573843   2.543118e+06       1.697310       0.957188   \n",
       "min         5.000000   0.000000e+00       0.000000       0.000000   \n",
       "25%         8.000000   0.000000e+00       0.000000       0.000000   \n",
       "50%        12.000000   5.000000e+03       1.000000       0.000000   \n",
       "75%        14.000000   5.900000e+04       1.000000       0.000000   \n",
       "max        19.000000   9.000000e+07      47.000000      82.000000   \n",
       "\n",
       "         ROADTYPE_ID    ROADSKIN_ID       ...              GIS_LNG  \\\n",
       "count  177816.000000  177816.000000       ...        177816.000000   \n",
       "mean        5.826798       7.566861       ...           100.331161   \n",
       "std        17.383798      22.979591       ...             5.806822   \n",
       "min         0.000000       0.000000       ...          -986.752524   \n",
       "25%         1.000000       1.000000       ...            99.400447   \n",
       "50%         2.000000       1.000000       ...           100.177741   \n",
       "75%         4.000000       1.000000       ...           101.762272   \n",
       "max        90.000000      90.000000       ...           738.952467   \n",
       "\n",
       "       PERSON_GENDER     PERSON_AGE    PERSON_TYPE   PERSON_STATE  \\\n",
       "count   177816.00000  177816.000000  177816.000000  177816.000000   \n",
       "mean         1.27335      32.771680       2.340149       0.199487   \n",
       "std          0.44568      35.314038       0.998113       0.412932   \n",
       "min          1.00000       0.000000       1.000000       0.000000   \n",
       "25%          1.00000      19.000000       2.000000       0.000000   \n",
       "50%          1.00000      29.000000       2.000000       0.000000   \n",
       "75%          2.00000      44.000000       3.000000       0.000000   \n",
       "max          2.00000    9999.000000       9.000000       2.000000   \n",
       "\n",
       "       LOCATE_PROVINCE  LOCATE_DOMICILE  LOCATE_AREATYPE  HEALTH_DEADPLACE  \\\n",
       "count    177816.000000     177816.00000    177816.000000     177816.000000   \n",
       "mean       1046.759066       1021.86585         0.421340          5.270392   \n",
       "std         120.399033        198.48147         0.709553          8.157409   \n",
       "min           0.000000          0.00000         0.000000          0.000000   \n",
       "25%        1041.000000       1041.00000         0.000000          0.000000   \n",
       "50%        1061.000000       1059.00000         0.000000          0.000000   \n",
       "75%        1077.000000       1076.00000         1.000000         10.000000   \n",
       "max        1096.000000       1096.00000         3.000000         30.000000   \n",
       "\n",
       "       HEALTH_EMSSEND  \n",
       "count   177816.000000  \n",
       "mean        40.009701  \n",
       "std         19.188675  \n",
       "min          0.000000  \n",
       "25%         20.000000  \n",
       "50%         40.000000  \n",
       "75%         50.000000  \n",
       "max         99.000000  \n",
       "\n",
       "[8 rows x 26 columns]"
      ]
     },
     "execution_count": 4,
     "metadata": {},
     "output_type": "execute_result"
    }
   ],
   "source": [
    "df.describe()"
   ]
  },
  {
   "cell_type": "markdown",
   "metadata": {},
   "source": [
    "__ b) Filter data __"
   ]
  },
  {
   "cell_type": "code",
   "execution_count": 5,
   "metadata": {
    "collapsed": false
   },
   "outputs": [
    {
     "data": {
      "text/plain": [
       "Index(['ACCIDENT_ID', 'LOCATE_ID_DISTRICT', 'LOCATE_ID_POLICE',\n",
       "       'ACCIDENT_MONTH', 'ACCIDENT_YEAR', 'ACCIDENT_COST', 'HUMAN_ADMIT',\n",
       "       'HUMAN_DEAD', 'ROADTYPE_ID', 'ROADSKIN_ID', 'ACDPOINT_ID',\n",
       "       'ATMOSPHERE_ID', 'LIGHT_ID', 'GIS_E', 'GIS_N', 'GIS_LAT', 'GIS_LNG',\n",
       "       'PERSON_GENDER', 'PERSON_AGE', 'PERSON_NATIONAL', 'PERSON_TYPE',\n",
       "       'PERSON_STATE', 'LOCATE_PROVINCE', 'LOCATE_DOMICILE', 'LOCATE_AREATYPE',\n",
       "       'HEALTH_DEADPLACE', 'HEALTH_EMSSEND'],\n",
       "      dtype='object')"
      ]
     },
     "execution_count": 5,
     "metadata": {},
     "output_type": "execute_result"
    }
   ],
   "source": [
    "df_2014 = df[df['ACCIDENT_YEAR']==14]\n",
    "df_2014.columns"
   ]
  },
  {
   "cell_type": "code",
   "execution_count": 6,
   "metadata": {
    "collapsed": false
   },
   "outputs": [
    {
     "data": {
      "text/plain": [
       "(28694, 27)"
      ]
     },
     "execution_count": 6,
     "metadata": {},
     "output_type": "execute_result"
    }
   ],
   "source": [
    "df_2014.shape"
   ]
  },
  {
   "cell_type": "code",
   "execution_count": 7,
   "metadata": {
    "collapsed": false
   },
   "outputs": [
    {
     "data": {
      "text/html": [
       "<div>\n",
       "<style scoped>\n",
       "    .dataframe tbody tr th:only-of-type {\n",
       "        vertical-align: middle;\n",
       "    }\n",
       "\n",
       "    .dataframe tbody tr th {\n",
       "        vertical-align: top;\n",
       "    }\n",
       "\n",
       "    .dataframe thead th {\n",
       "        text-align: right;\n",
       "    }\n",
       "</style>\n",
       "<table border=\"1\" class=\"dataframe\">\n",
       "  <thead>\n",
       "    <tr style=\"text-align: right;\">\n",
       "      <th></th>\n",
       "      <th>ACCIDENT_ID</th>\n",
       "      <th>LOCATE_ID_DISTRICT</th>\n",
       "      <th>LOCATE_ID_POLICE</th>\n",
       "      <th>ACCIDENT_MONTH</th>\n",
       "      <th>ACCIDENT_YEAR</th>\n",
       "      <th>ACCIDENT_COST</th>\n",
       "      <th>HUMAN_ADMIT</th>\n",
       "      <th>HUMAN_DEAD</th>\n",
       "      <th>ROADTYPE_ID</th>\n",
       "      <th>ROADSKIN_ID</th>\n",
       "      <th>...</th>\n",
       "      <th>GIS_LNG</th>\n",
       "      <th>PERSON_GENDER</th>\n",
       "      <th>PERSON_AGE</th>\n",
       "      <th>PERSON_TYPE</th>\n",
       "      <th>PERSON_STATE</th>\n",
       "      <th>LOCATE_PROVINCE</th>\n",
       "      <th>LOCATE_DOMICILE</th>\n",
       "      <th>LOCATE_AREATYPE</th>\n",
       "      <th>HEALTH_DEADPLACE</th>\n",
       "      <th>HEALTH_EMSSEND</th>\n",
       "    </tr>\n",
       "  </thead>\n",
       "  <tbody>\n",
       "    <tr>\n",
       "      <th>count</th>\n",
       "      <td>28694.000000</td>\n",
       "      <td>28694.000000</td>\n",
       "      <td>28694.000000</td>\n",
       "      <td>28694.000000</td>\n",
       "      <td>28694.0</td>\n",
       "      <td>2.869400e+04</td>\n",
       "      <td>28694.000000</td>\n",
       "      <td>28694.000000</td>\n",
       "      <td>28694.000000</td>\n",
       "      <td>28694.000000</td>\n",
       "      <td>...</td>\n",
       "      <td>28694.000000</td>\n",
       "      <td>28694.000000</td>\n",
       "      <td>28694.000000</td>\n",
       "      <td>28694.000000</td>\n",
       "      <td>28694.000000</td>\n",
       "      <td>28694.000000</td>\n",
       "      <td>28694.000000</td>\n",
       "      <td>28694.000000</td>\n",
       "      <td>28694.000000</td>\n",
       "      <td>28694.000000</td>\n",
       "    </tr>\n",
       "    <tr>\n",
       "      <th>mean</th>\n",
       "      <td>94765.015996</td>\n",
       "      <td>100600.828780</td>\n",
       "      <td>693.534990</td>\n",
       "      <td>6.521991</td>\n",
       "      <td>14.0</td>\n",
       "      <td>9.482955e+05</td>\n",
       "      <td>1.236530</td>\n",
       "      <td>0.499477</td>\n",
       "      <td>4.589357</td>\n",
       "      <td>8.986583</td>\n",
       "      <td>...</td>\n",
       "      <td>100.878881</td>\n",
       "      <td>1.291524</td>\n",
       "      <td>34.589705</td>\n",
       "      <td>2.326689</td>\n",
       "      <td>0.307765</td>\n",
       "      <td>1062.737506</td>\n",
       "      <td>1062.047432</td>\n",
       "      <td>0.474942</td>\n",
       "      <td>5.444344</td>\n",
       "      <td>45.058549</td>\n",
       "    </tr>\n",
       "    <tr>\n",
       "      <th>std</th>\n",
       "      <td>58973.904396</td>\n",
       "      <td>254.504713</td>\n",
       "      <td>8341.466699</td>\n",
       "      <td>3.614359</td>\n",
       "      <td>0.0</td>\n",
       "      <td>3.169571e+06</td>\n",
       "      <td>2.597284</td>\n",
       "      <td>1.545232</td>\n",
       "      <td>14.435430</td>\n",
       "      <td>25.255466</td>\n",
       "      <td>...</td>\n",
       "      <td>1.708269</td>\n",
       "      <td>0.454472</td>\n",
       "      <td>19.140510</td>\n",
       "      <td>1.125140</td>\n",
       "      <td>0.464362</td>\n",
       "      <td>20.929478</td>\n",
       "      <td>21.078511</td>\n",
       "      <td>0.731978</td>\n",
       "      <td>9.685906</td>\n",
       "      <td>18.717508</td>\n",
       "    </tr>\n",
       "    <tr>\n",
       "      <th>min</th>\n",
       "      <td>1.000000</td>\n",
       "      <td>100031.000000</td>\n",
       "      <td>0.000000</td>\n",
       "      <td>1.000000</td>\n",
       "      <td>14.0</td>\n",
       "      <td>0.000000e+00</td>\n",
       "      <td>0.000000</td>\n",
       "      <td>0.000000</td>\n",
       "      <td>1.000000</td>\n",
       "      <td>1.000000</td>\n",
       "      <td>...</td>\n",
       "      <td>94.511390</td>\n",
       "      <td>1.000000</td>\n",
       "      <td>1.000000</td>\n",
       "      <td>1.000000</td>\n",
       "      <td>0.000000</td>\n",
       "      <td>1020.000000</td>\n",
       "      <td>1020.000000</td>\n",
       "      <td>0.000000</td>\n",
       "      <td>0.000000</td>\n",
       "      <td>20.000000</td>\n",
       "    </tr>\n",
       "    <tr>\n",
       "      <th>25%</th>\n",
       "      <td>38779.250000</td>\n",
       "      <td>100419.000000</td>\n",
       "      <td>0.000000</td>\n",
       "      <td>4.000000</td>\n",
       "      <td>14.0</td>\n",
       "      <td>0.000000e+00</td>\n",
       "      <td>0.000000</td>\n",
       "      <td>0.000000</td>\n",
       "      <td>1.000000</td>\n",
       "      <td>1.000000</td>\n",
       "      <td>...</td>\n",
       "      <td>99.688360</td>\n",
       "      <td>1.000000</td>\n",
       "      <td>20.000000</td>\n",
       "      <td>2.000000</td>\n",
       "      <td>0.000000</td>\n",
       "      <td>1048.000000</td>\n",
       "      <td>1047.000000</td>\n",
       "      <td>0.000000</td>\n",
       "      <td>0.000000</td>\n",
       "      <td>40.000000</td>\n",
       "    </tr>\n",
       "    <tr>\n",
       "      <th>50%</th>\n",
       "      <td>98839.500000</td>\n",
       "      <td>100669.000000</td>\n",
       "      <td>0.000000</td>\n",
       "      <td>6.000000</td>\n",
       "      <td>14.0</td>\n",
       "      <td>5.900000e+04</td>\n",
       "      <td>1.000000</td>\n",
       "      <td>0.000000</td>\n",
       "      <td>2.000000</td>\n",
       "      <td>1.000000</td>\n",
       "      <td>...</td>\n",
       "      <td>100.267555</td>\n",
       "      <td>1.000000</td>\n",
       "      <td>32.000000</td>\n",
       "      <td>2.000000</td>\n",
       "      <td>0.000000</td>\n",
       "      <td>1066.000000</td>\n",
       "      <td>1065.000000</td>\n",
       "      <td>0.000000</td>\n",
       "      <td>0.000000</td>\n",
       "      <td>40.000000</td>\n",
       "    </tr>\n",
       "    <tr>\n",
       "      <th>75%</th>\n",
       "      <td>149150.250000</td>\n",
       "      <td>100807.000000</td>\n",
       "      <td>0.000000</td>\n",
       "      <td>10.000000</td>\n",
       "      <td>14.0</td>\n",
       "      <td>1.000000e+05</td>\n",
       "      <td>1.000000</td>\n",
       "      <td>1.000000</td>\n",
       "      <td>4.000000</td>\n",
       "      <td>1.000000</td>\n",
       "      <td>...</td>\n",
       "      <td>101.927331</td>\n",
       "      <td>2.000000</td>\n",
       "      <td>46.000000</td>\n",
       "      <td>2.000000</td>\n",
       "      <td>1.000000</td>\n",
       "      <td>1081.000000</td>\n",
       "      <td>1079.000000</td>\n",
       "      <td>1.000000</td>\n",
       "      <td>10.000000</td>\n",
       "      <td>50.000000</td>\n",
       "    </tr>\n",
       "    <tr>\n",
       "      <th>max</th>\n",
       "      <td>177697.000000</td>\n",
       "      <td>100966.000000</td>\n",
       "      <td>101059.000000</td>\n",
       "      <td>12.000000</td>\n",
       "      <td>14.0</td>\n",
       "      <td>8.000000e+07</td>\n",
       "      <td>47.000000</td>\n",
       "      <td>31.000000</td>\n",
       "      <td>90.000000</td>\n",
       "      <td>90.000000</td>\n",
       "      <td>...</td>\n",
       "      <td>105.531912</td>\n",
       "      <td>2.000000</td>\n",
       "      <td>999.000000</td>\n",
       "      <td>9.000000</td>\n",
       "      <td>2.000000</td>\n",
       "      <td>1096.000000</td>\n",
       "      <td>1096.000000</td>\n",
       "      <td>2.000000</td>\n",
       "      <td>30.000000</td>\n",
       "      <td>90.000000</td>\n",
       "    </tr>\n",
       "  </tbody>\n",
       "</table>\n",
       "<p>8 rows × 26 columns</p>\n",
       "</div>"
      ],
      "text/plain": [
       "         ACCIDENT_ID  LOCATE_ID_DISTRICT  LOCATE_ID_POLICE  ACCIDENT_MONTH  \\\n",
       "count   28694.000000        28694.000000      28694.000000    28694.000000   \n",
       "mean    94765.015996       100600.828780        693.534990        6.521991   \n",
       "std     58973.904396          254.504713       8341.466699        3.614359   \n",
       "min         1.000000       100031.000000          0.000000        1.000000   \n",
       "25%     38779.250000       100419.000000          0.000000        4.000000   \n",
       "50%     98839.500000       100669.000000          0.000000        6.000000   \n",
       "75%    149150.250000       100807.000000          0.000000       10.000000   \n",
       "max    177697.000000       100966.000000     101059.000000       12.000000   \n",
       "\n",
       "       ACCIDENT_YEAR  ACCIDENT_COST   HUMAN_ADMIT    HUMAN_DEAD   ROADTYPE_ID  \\\n",
       "count        28694.0   2.869400e+04  28694.000000  28694.000000  28694.000000   \n",
       "mean            14.0   9.482955e+05      1.236530      0.499477      4.589357   \n",
       "std              0.0   3.169571e+06      2.597284      1.545232     14.435430   \n",
       "min             14.0   0.000000e+00      0.000000      0.000000      1.000000   \n",
       "25%             14.0   0.000000e+00      0.000000      0.000000      1.000000   \n",
       "50%             14.0   5.900000e+04      1.000000      0.000000      2.000000   \n",
       "75%             14.0   1.000000e+05      1.000000      1.000000      4.000000   \n",
       "max             14.0   8.000000e+07     47.000000     31.000000     90.000000   \n",
       "\n",
       "        ROADSKIN_ID       ...             GIS_LNG  PERSON_GENDER  \\\n",
       "count  28694.000000       ...        28694.000000   28694.000000   \n",
       "mean       8.986583       ...          100.878881       1.291524   \n",
       "std       25.255466       ...            1.708269       0.454472   \n",
       "min        1.000000       ...           94.511390       1.000000   \n",
       "25%        1.000000       ...           99.688360       1.000000   \n",
       "50%        1.000000       ...          100.267555       1.000000   \n",
       "75%        1.000000       ...          101.927331       2.000000   \n",
       "max       90.000000       ...          105.531912       2.000000   \n",
       "\n",
       "         PERSON_AGE   PERSON_TYPE  PERSON_STATE  LOCATE_PROVINCE  \\\n",
       "count  28694.000000  28694.000000  28694.000000     28694.000000   \n",
       "mean      34.589705      2.326689      0.307765      1062.737506   \n",
       "std       19.140510      1.125140      0.464362        20.929478   \n",
       "min        1.000000      1.000000      0.000000      1020.000000   \n",
       "25%       20.000000      2.000000      0.000000      1048.000000   \n",
       "50%       32.000000      2.000000      0.000000      1066.000000   \n",
       "75%       46.000000      2.000000      1.000000      1081.000000   \n",
       "max      999.000000      9.000000      2.000000      1096.000000   \n",
       "\n",
       "       LOCATE_DOMICILE  LOCATE_AREATYPE  HEALTH_DEADPLACE  HEALTH_EMSSEND  \n",
       "count     28694.000000     28694.000000      28694.000000    28694.000000  \n",
       "mean       1062.047432         0.474942          5.444344       45.058549  \n",
       "std          21.078511         0.731978          9.685906       18.717508  \n",
       "min        1020.000000         0.000000          0.000000       20.000000  \n",
       "25%        1047.000000         0.000000          0.000000       40.000000  \n",
       "50%        1065.000000         0.000000          0.000000       40.000000  \n",
       "75%        1079.000000         1.000000         10.000000       50.000000  \n",
       "max        1096.000000         2.000000         30.000000       90.000000  \n",
       "\n",
       "[8 rows x 26 columns]"
      ]
     },
     "execution_count": 7,
     "metadata": {},
     "output_type": "execute_result"
    }
   ],
   "source": [
    "df_2014.describe()"
   ]
  },
  {
   "cell_type": "markdown",
   "metadata": {},
   "source": [
    "### Step 3: Data Preparation. "
   ]
  },
  {
   "cell_type": "markdown",
   "metadata": {},
   "source": [
    "#### a) Reverse latitute and longtitute to address using reverse_geocoder library"
   ]
  },
  {
   "cell_type": "markdown",
   "metadata": {
    "collapsed": true
   },
   "source": [
    "Reverse geocode the given latitude / longitude<br>\n",
    "solution1 : https://github.com/thampiman/reverse-geocoder<br>\n",
    "solution2 : https://pypi.org/project/reverse_geocode/<br><br>\n",
    "Reverse Geocode takes a latitude / longitude coordinate and returns the country and city. Example usage:"
   ]
  },
  {
   "cell_type": "code",
   "execution_count": 15,
   "metadata": {
    "collapsed": false
   },
   "outputs": [
    {
     "name": "stdout",
     "output_type": "stream",
     "text": [
      "[OrderedDict([('lat', '15.64113'), ('lon', '102.95462'), ('name', 'Na Pho'), ('admin1', 'Buriram'), ('admin2', ''), ('cc', 'TH')])]\n"
     ]
    }
   ],
   "source": [
    "#solution1 : reverse_geocoder\n",
    "import reverse_geocoder as rg\n",
    "coordinates = (15.645143, 102.978200)\n",
    "results = rg.search(coordinates) # default mode = 2\n",
    "print(results)"
   ]
  },
  {
   "cell_type": "code",
   "execution_count": 16,
   "metadata": {
    "collapsed": false
   },
   "outputs": [
    {
     "name": "stdout",
     "output_type": "stream",
     "text": [
      "[{'country_code': 'TH', 'city': 'Na Pho', 'country': 'Thailand'}, {'country_code': 'AU', 'city': 'Melbourne', 'country': 'Australia'}]\n",
      "Na Pho\n"
     ]
    }
   ],
   "source": [
    "#solution2 : reverse_geocode (faster than reverse_geocoder)\n",
    "import reverse_geocode\n",
    "coordinates = (15.645143, 102.978200), (-37.81, 144.96)\n",
    "addr = reverse_geocode.search(coordinates) \n",
    "print(addr)\n",
    "print(addr[0]['city'])"
   ]
  },
  {
   "cell_type": "code",
   "execution_count": 20,
   "metadata": {
    "collapsed": false
   },
   "outputs": [
    {
     "name": "stdout",
     "output_type": "stream",
     "text": [
      "CPU times: user 7min 20s, sys: 59min 11s, total: 1h 6min 31s\n",
      "Wall time: 6h 49min 3s\n"
     ]
    }
   ],
   "source": [
    "%%time\n",
    "\n",
    "district_list = []\n",
    "province_list = []\n",
    "\n",
    "def reverse_geo(x):\n",
    "    try:\n",
    "        if rg.search( (  float(x[0]),   float(x[1])  ) )[0]['name'] is not None : district_list.append(rg.search( (  float(x[0]),   float(x[1])  ) )[0]['name'])\n",
    "        if rg.search( (  float(x[0]),   float(x[1])  ) )[0]['admin1'] is not None : province_list.append(rg.search( (  float(x[0]),   float(x[1])  ) )[0]['admin1'])\n",
    "    except:\n",
    "        district_list.append('')\n",
    "        province_list.append('')\n",
    "        \n",
    "#df_2014[['GIS_LAT','GIS_LNG']].apply(reverse_geo, axis=1)\n",
    "df_2014[['GIS_LAT','GIS_LNG']][:10].apply(reverse_geo, axis=1)"
   ]
  },
  {
   "cell_type": "code",
   "execution_count": 21,
   "metadata": {
    "collapsed": false
   },
   "outputs": [
    {
     "data": {
      "text/plain": [
       "['Surin',\n",
       " 'Surin',\n",
       " 'Surat Thani',\n",
       " 'Buriram',\n",
       " 'Phatthalung',\n",
       " 'Chumphon',\n",
       " 'Pattani',\n",
       " 'Phrae',\n",
       " 'Khon Kaen',\n",
       " 'Surin']"
      ]
     },
     "execution_count": 21,
     "metadata": {},
     "output_type": "execute_result"
    }
   ],
   "source": [
    "province_list[:10]"
   ]
  },
  {
   "cell_type": "code",
   "execution_count": 22,
   "metadata": {
    "collapsed": false
   },
   "outputs": [
    {
     "name": "stderr",
     "output_type": "stream",
     "text": [
      "/home/kanda/Applications/anaconda3/lib/python3.6/site-packages/ipykernel/__main__.py:1: SettingWithCopyWarning: \n",
      "A value is trying to be set on a copy of a slice from a DataFrame.\n",
      "Try using .loc[row_indexer,col_indexer] = value instead\n",
      "\n",
      "See the caveats in the documentation: http://pandas.pydata.org/pandas-docs/stable/indexing.html#indexing-view-versus-copy\n",
      "  if __name__ == '__main__':\n",
      "/home/kanda/Applications/anaconda3/lib/python3.6/site-packages/ipykernel/__main__.py:2: SettingWithCopyWarning: \n",
      "A value is trying to be set on a copy of a slice from a DataFrame.\n",
      "Try using .loc[row_indexer,col_indexer] = value instead\n",
      "\n",
      "See the caveats in the documentation: http://pandas.pydata.org/pandas-docs/stable/indexing.html#indexing-view-versus-copy\n",
      "  from ipykernel import kernelapp as app\n"
     ]
    }
   ],
   "source": [
    "df_2014['district'] = district_list\n",
    "df_2014['province'] = province_list"
   ]
  },
  {
   "cell_type": "markdown",
   "metadata": {},
   "source": [
    "#### b) Write prepared data to excle file"
   ]
  },
  {
   "cell_type": "code",
   "execution_count": 23,
   "metadata": {
    "collapsed": true
   },
   "outputs": [],
   "source": [
    "writer = pd.ExcelWriter('accident_gis_province_2014_2.xlsx')\n",
    "df_2014.to_excel(writer,'Sheet1')\n",
    "writer.save()"
   ]
  },
  {
   "cell_type": "markdown",
   "metadata": {},
   "source": [
    "__c) Read data from excle file__"
   ]
  },
  {
   "cell_type": "code",
   "execution_count": 24,
   "metadata": {
    "collapsed": true
   },
   "outputs": [],
   "source": [
    "df_prep = pd.read_excel('accident_gis_province_2014_2.xlsx')"
   ]
  },
  {
   "cell_type": "markdown",
   "metadata": {},
   "source": [
    "#### d) Data Conversion\n",
    "\n",
    "ROADTYPE_ID [0-5,90]\tสภาพถนน\t\n",
    "- 1 = 'ถนนกรมทางหลวง'\n",
    "- 2 = 'ถนนกรมทางหลวงชนบท'\n",
    "- 3 = 'ถนนในเมือง (เทศบาล)'\n",
    "- 4 = 'ถนนใน อบต. / หมู่บ้าน'\n",
    "- 5 = 'อื่นๆ'\n",
    "\n",
    "ROADSKIN_ID [0-5,90]\tผิวถนน\t\n",
    "- 1 = 'แห้ง'\n",
    "- 2 = 'เปียก'\n",
    "- 3 = 'เป็นคลื่น / หลุมบ่อ'\n",
    "- 4 = 'อื่นๆ'\n",
    "\n",
    "ACDPOINT_ID [0-5,90]\tจุดเกิดอุบัติเหตุ\t\n",
    "- 1 = 'ทางตรง'\n",
    "- 2 = 'ทางโค้ง'\n",
    "- 3 = 'ทางแยก'\n",
    "- 4 = 'ทางคนข้าม'\n",
    "- 5 = 'ทางมีสิ่งกีดขวาง'\n",
    "- 6 = 'อื่นๆ'\n",
    "\n",
    "ATMOSPHERE_ID [0-4,90]\tสภาพอากาศ\t\n",
    "- 1 = 'แจ่มใส'\n",
    "- 2 = 'มีหมอก'\n",
    "- 3 = 'ฝนตก'\n",
    "- 4 = 'ควัน / ฝุ่น'\n",
    "- 5 = 'อื่นๆ'\n",
    "\n",
    "LIGHT_ID [0-3,90]\tแสงในขณะเกิดอุบัติเหตุ\t\n",
    "- 1 = 'กลางวัน'\n",
    "- 2 = 'กลางคืนมีแสงไฟฟ้า'\n",
    "- 3 = 'กลางคืนไม่มีแสงไฟฟ้า'\n",
    "- 4 = 'อื่นๆ'"
   ]
  },
  {
   "cell_type": "code",
   "execution_count": 25,
   "metadata": {
    "collapsed": false
   },
   "outputs": [],
   "source": [
    "## ROADTYPE_ID [0-5,90] สภาพถนน\n",
    "road = []\n",
    "for x in df_prep['ROADTYPE_ID']:\n",
    "    if x == 1 :\n",
    "        road.append('ถนนกรมทางหลวง')\n",
    "    elif x == 2 :\n",
    "        road.append('ถนนกรมทางหลวงชนบท')\n",
    "    elif x == 3 :\n",
    "        road.append('ถนนในเมือง')\n",
    "    elif x == 4 :\n",
    "        road.append('ถนนในหมู่บ้าน')\n",
    "    else :\n",
    "        road.append('อื่นๆ')"
   ]
  },
  {
   "cell_type": "code",
   "execution_count": 26,
   "metadata": {
    "collapsed": true
   },
   "outputs": [],
   "source": [
    "## ROADSKIN_ID [0-5,90] ผิวถนน\n",
    "\n",
    "road_skin = []\n",
    "for x in df_prep['ROADSKIN_ID']:\n",
    "    if x == 1 :\n",
    "        road_skin.append('แห้ง')\n",
    "    elif x == 2 :\n",
    "        road_skin.append('เปียก')\n",
    "    elif x == 3 :\n",
    "        road_skin.append('เป็นคลื่น')\n",
    "    else :\n",
    "        road_skin.append('อื่นๆ')"
   ]
  },
  {
   "cell_type": "code",
   "execution_count": 27,
   "metadata": {
    "collapsed": true
   },
   "outputs": [],
   "source": [
    "## ACDPOINT_ID [0-5,90] จุดเกิดอุบัติเหตุ\n",
    "\n",
    "acdpoint = []\n",
    "for x in df_prep['ACDPOINT_ID']:\n",
    "    if x == 1 :\n",
    "        acdpoint.append('ทางตรง')\n",
    "    elif x == 2 :\n",
    "        acdpoint.append('ทางโค้ง')\n",
    "    elif x == 3 :\n",
    "        acdpoint.append('ทางแยก')\n",
    "    elif x == 4 :\n",
    "        acdpoint.append('ทางคนข้าม')\n",
    "    elif x == 5 :\n",
    "        acdpoint.append('ทางมีสิ่งกีดขวาง')\n",
    "    else :\n",
    "        acdpoint.append('อื่นๆ')"
   ]
  },
  {
   "cell_type": "code",
   "execution_count": 28,
   "metadata": {
    "collapsed": true
   },
   "outputs": [],
   "source": [
    "## ATMOSPHERE_ID [0-4,90] สภาพอากาศ\n",
    "\n",
    "atmos = []\n",
    "for x in df_prep['ATMOSPHERE_ID']:\n",
    "    if x == 1 :\n",
    "        atmos.append('แจ่มใส')\n",
    "    elif x == 2 :\n",
    "        atmos.append('มีหมอก')\n",
    "    elif x == 3 :\n",
    "        atmos.append('ฝนตก')\n",
    "    elif x == 4 :\n",
    "        atmos.append('ควันฝุ่น')\n",
    "    else :\n",
    "        atmos.append('อื่นๆ') "
   ]
  },
  {
   "cell_type": "code",
   "execution_count": 29,
   "metadata": {
    "collapsed": true
   },
   "outputs": [],
   "source": [
    "## LIGHT_ID [0-3,90] แสงในขณะเกิดอุบัติเหตุ\n",
    "ligth = []\n",
    "for x in df_prep['LIGHT_ID']:\n",
    "    if x == 1 :\n",
    "        ligth.append('กลางวัน')\n",
    "    elif x == 2 :\n",
    "        ligth.append('กลางคืนมีแสงไฟฟ้า')\n",
    "    elif x == 3 :\n",
    "        ligth.append('กลางคืนไม่มีแสงไฟฟ้า')\n",
    "    else :\n",
    "        ligth.append('อื่นๆ')          "
   ]
  },
  {
   "cell_type": "markdown",
   "metadata": {},
   "source": [
    "#### e) Write converted data to DataFrame"
   ]
  },
  {
   "cell_type": "code",
   "execution_count": 30,
   "metadata": {
    "collapsed": true
   },
   "outputs": [],
   "source": [
    "df_prep['ROADTYPE_NAME'] = road             \n",
    "df_prep['ROADSKIN_NAME'] = road_skin\n",
    "df_prep['ACDPOINT_NAME'] = acdpoint\n",
    "df_prep['ATMOSPHERE_NAME'] = atmos\n",
    "df_prep['LIGHT_NAME'] = ligth"
   ]
  },
  {
   "cell_type": "code",
   "execution_count": 31,
   "metadata": {
    "collapsed": false
   },
   "outputs": [
    {
     "data": {
      "text/plain": [
       "Index(['ACCIDENT_ID', 'LOCATE_ID_DISTRICT', 'LOCATE_ID_POLICE',\n",
       "       'ACCIDENT_MONTH', 'ACCIDENT_YEAR', 'ACCIDENT_COST', 'HUMAN_ADMIT',\n",
       "       'HUMAN_DEAD', 'ROADTYPE_ID', 'ROADSKIN_ID', 'ACDPOINT_ID',\n",
       "       'ATMOSPHERE_ID', 'LIGHT_ID', 'GIS_E', 'GIS_N', 'GIS_LAT', 'GIS_LNG',\n",
       "       'PERSON_GENDER', 'PERSON_AGE', 'PERSON_NATIONAL', 'PERSON_TYPE',\n",
       "       'PERSON_STATE', 'LOCATE_PROVINCE', 'LOCATE_DOMICILE', 'LOCATE_AREATYPE',\n",
       "       'HEALTH_DEADPLACE', 'HEALTH_EMSSEND', 'district', 'province',\n",
       "       'ROADTYPE_NAME', 'ROADSKIN_NAME', 'ACDPOINT_NAME', 'ATMOSPHERE_NAME',\n",
       "       'LIGHT_NAME'],\n",
       "      dtype='object')"
      ]
     },
     "execution_count": 31,
     "metadata": {},
     "output_type": "execute_result"
    }
   ],
   "source": [
    "df_prep.columns"
   ]
  },
  {
   "cell_type": "markdown",
   "metadata": {},
   "source": [
    "#### f) Sort value by province name"
   ]
  },
  {
   "cell_type": "code",
   "execution_count": 32,
   "metadata": {
    "collapsed": false
   },
   "outputs": [
    {
     "data": {
      "text/plain": [
       "Surat Thani                 3753\n",
       "Suphan Buri                  826\n",
       "Phetchabun                   814\n",
       "Ratchaburi                   788\n",
       "Sakon Nakhon                 761\n",
       "Nakhon Pathom                727\n",
       "Changwat Udon Thani          658\n",
       "Nakhon Ratchasima            636\n",
       "Samut Sakhon                 628\n",
       "Chiang Mai                   621\n",
       "Nakhon Phanom                583\n",
       "Kamphaeng Phet               572\n",
       "Nakhon Sawan                 569\n",
       "Sara Buri                    516\n",
       "Songkhla                     513\n",
       "Narathiwat                   483\n",
       "Bangkok                      469\n",
       "Nakhon Si Thammarat          456\n",
       "Loei                         446\n",
       "Chiang Rai                   436\n",
       "Roi Et                       426\n",
       "Chon Buri                    396\n",
       "Phitsanulok                  392\n",
       "Buriram                      391\n",
       "Kalasin                      388\n",
       "Sisaket                      384\n",
       "Phayao                       368\n",
       "Prachuap Khiri Khan          351\n",
       "Mae Hong Son                 348\n",
       "Changwat Bueng Kan           345\n",
       "                            ... \n",
       "Samut Prakan                 182\n",
       "Changwat Nong Bua Lamphu     178\n",
       "Chachoengsao                 171\n",
       "Sa Kaeo                      171\n",
       "Phichit                      167\n",
       "Prachin Buri                 162\n",
       "Surin                        161\n",
       "Ranong                       154\n",
       "Amnat Charoen                126\n",
       "Chai Nat                     125\n",
       "Trat                         125\n",
       "Phuket                       124\n",
       "Chaiyaphum                   124\n",
       "Nakhon Nayok                 123\n",
       "Nonthaburi                   110\n",
       "Pattani                      107\n",
       "Rayong                       106\n",
       "Ang Thong                    100\n",
       "Phangnga                      97\n",
       "Satun                         91\n",
       "Yala                          70\n",
       "Savannahkhet                  18\n",
       "Khammouan                     17\n",
       "Vientiane                      6\n",
       "Bokeo                          5\n",
       "Bolikhamxai                    5\n",
       "Aceh                           4\n",
       "Banteay Meanchey               4\n",
       "Tanintharyi                    2\n",
       "Kedah                          1\n",
       "Name: province, Length: 86, dtype: int64"
      ]
     },
     "execution_count": 32,
     "metadata": {},
     "output_type": "execute_result"
    }
   ],
   "source": [
    "df_prep['province'].value_counts().sort_values(ascending=False)"
   ]
  },
  {
   "cell_type": "markdown",
   "metadata": {},
   "source": [
    "#### g) Write prepared data to excle file"
   ]
  },
  {
   "cell_type": "code",
   "execution_count": 33,
   "metadata": {
    "collapsed": false
   },
   "outputs": [],
   "source": [
    "writer = pd.ExcelWriter('accident_2014_prep_2.xlsx')\n",
    "df_prep.to_excel(writer,'Sheet1')\n",
    "writer.save()"
   ]
  },
  {
   "cell_type": "markdown",
   "metadata": {},
   "source": [
    "<hr>\n",
    "<center>_Please get back to slide_</center>\n",
    "<hr>"
   ]
  },
  {
   "cell_type": "markdown",
   "metadata": {},
   "source": [
    "## Part 2: Visualizing the Data"
   ]
  },
  {
   "cell_type": "markdown",
   "metadata": {},
   "source": [
    "### Data Exploratory"
   ]
  },
  {
   "cell_type": "code",
   "execution_count": 34,
   "metadata": {
    "collapsed": true
   },
   "outputs": [],
   "source": [
    "import seaborn as sns"
   ]
  },
  {
   "cell_type": "markdown",
   "metadata": {},
   "source": [
    "__a) อายุของคนที่เกิดอุบัติเหตุ__"
   ]
  },
  {
   "cell_type": "markdown",
   "metadata": {},
   "source": [
    "_Histogram_"
   ]
  },
  {
   "cell_type": "code",
   "execution_count": 35,
   "metadata": {
    "collapsed": false
   },
   "outputs": [
    {
     "data": {
      "text/plain": [
       "<matplotlib.axes._subplots.AxesSubplot at 0x7fe60ef5a940>"
      ]
     },
     "execution_count": 35,
     "metadata": {},
     "output_type": "execute_result"
    },
    {
     "data": {
      "image/png": "[encoded data removed]",
      "text/plain": [
       "<matplotlib.figure.Figure at 0x7fe615c8ce80>"
      ]
     },
     "metadata": {},
     "output_type": "display_data"
    }
   ],
   "source": [
    "df_prep['PERSON_AGE'].plot(kind='hist', bins=10)"
   ]
  },
  {
   "cell_type": "markdown",
   "metadata": {},
   "source": [
    "_Quartile Chart_"
   ]
  },
  {
   "cell_type": "code",
   "execution_count": 37,
   "metadata": {
    "collapsed": false,
    "scrolled": true
   },
   "outputs": [
    {
     "name": "stderr",
     "output_type": "stream",
     "text": [
      "/home/kanda/Applications/anaconda3/lib/python3.6/site-packages/seaborn/categorical.py:454: FutureWarning: remove_na is deprecated and is a private function. Do not use.\n",
      "  box_data = remove_na(group_data)\n"
     ]
    },
    {
     "data": {
      "text/plain": [
       "<matplotlib.axes._subplots.AxesSubplot at 0x7fe603d18ba8>"
      ]
     },
     "execution_count": 37,
     "metadata": {},
     "output_type": "execute_result"
    },
    {
     "data": {
      "image/png": "[encoded data removed]",
      "text/plain": [
       "<matplotlib.figure.Figure at 0x7fe603d18278>"
      ]
     },
     "metadata": {},
     "output_type": "display_data"
    }
   ],
   "source": [
    "sns.boxplot(x=\"PERSON_AGE\", data=df_prep)"
   ]
  },
  {
   "cell_type": "markdown",
   "metadata": {},
   "source": [
    "_Filter age less than 100_"
   ]
  },
  {
   "cell_type": "code",
   "execution_count": 40,
   "metadata": {
    "collapsed": false
   },
   "outputs": [],
   "source": [
    "df_prep = df_prep[df_prep['PERSON_AGE']<=100]"
   ]
  },
  {
   "cell_type": "code",
   "execution_count": 41,
   "metadata": {
    "collapsed": false
   },
   "outputs": [
    {
     "name": "stderr",
     "output_type": "stream",
     "text": [
      "/home/kanda/Applications/anaconda3/lib/python3.6/site-packages/seaborn/categorical.py:454: FutureWarning: remove_na is deprecated and is a private function. Do not use.\n",
      "  box_data = remove_na(group_data)\n"
     ]
    },
    {
     "data": {
      "text/plain": [
       "<matplotlib.axes._subplots.AxesSubplot at 0x7fe603be7080>"
      ]
     },
     "execution_count": 41,
     "metadata": {},
     "output_type": "execute_result"
    },
    {
     "data": {
      "image/png": "[encoded data removed]",
      "text/plain": [
       "<matplotlib.figure.Figure at 0x7fe603d352e8>"
      ]
     },
     "metadata": {},
     "output_type": "display_data"
    }
   ],
   "source": [
    "sns.boxplot(x=\"PERSON_AGE\", data=df_prep)"
   ]
  },
  {
   "cell_type": "markdown",
   "metadata": {},
   "source": [
    "_Distribution Chart การกระจายตัวของอายุผู้ประสบอุบัติเหตุ_"
   ]
  },
  {
   "cell_type": "code",
   "execution_count": 42,
   "metadata": {
    "collapsed": false
   },
   "outputs": [
    {
     "name": "stderr",
     "output_type": "stream",
     "text": [
      "/home/kanda/Applications/anaconda3/lib/python3.6/site-packages/statsmodels/nonparametric/kdetools.py:20: VisibleDeprecationWarning: using a non-integer number instead of an integer will result in an error in the future\n",
      "  y = X[:m/2+1] + np.r_[0,X[m/2+1:],0]*1j\n"
     ]
    },
    {
     "data": {
      "text/plain": [
       "<matplotlib.axes._subplots.AxesSubplot at 0x7fe603bf3f28>"
      ]
     },
     "execution_count": 42,
     "metadata": {},
     "output_type": "execute_result"
    },
    {
     "data": {
      "image/png": "[encoded data removed]",
      "text/plain": [
       "<matplotlib.figure.Figure at 0x7fe603b81400>"
      ]
     },
     "metadata": {},
     "output_type": "display_data"
    }
   ],
   "source": [
    "plt.rcParams['figure.figsize'] = 8, 5\n",
    "sns.distplot( df_prep['PERSON_AGE'] , bins=10)"
   ]
  },
  {
   "cell_type": "markdown",
   "metadata": {},
   "source": [
    "__b) จำนวนครั้งที่เกิดอุบัติเหตุ ในแต่ละเดือน__"
   ]
  },
  {
   "cell_type": "code",
   "execution_count": 43,
   "metadata": {
    "collapsed": false
   },
   "outputs": [
    {
     "data": {
      "text/plain": [
       "<matplotlib.axes._subplots.AxesSubplot at 0x7fe603a53278>"
      ]
     },
     "execution_count": 43,
     "metadata": {},
     "output_type": "execute_result"
    },
    {
     "data": {
      "image/png": "[encoded data removed]",
      "text/plain": [
       "<matplotlib.figure.Figure at 0x7fe603a6e198>"
      ]
     },
     "metadata": {},
     "output_type": "display_data"
    }
   ],
   "source": [
    "df_prep['ACCIDENT_MONTH'].plot(kind='hist', bins=12)"
   ]
  },
  {
   "cell_type": "markdown",
   "metadata": {
    "collapsed": true
   },
   "source": [
    "__c) จำนวนครั้งที่เกิดอุบัติเหตุ แบ่งตามจังหวัด__"
   ]
  },
  {
   "cell_type": "code",
   "execution_count": 45,
   "metadata": {
    "collapsed": false
   },
   "outputs": [
    {
     "name": "stderr",
     "output_type": "stream",
     "text": [
      "/home/kanda/Applications/anaconda3/lib/python3.6/site-packages/seaborn/categorical.py:1428: FutureWarning: remove_na is deprecated and is a private function. Do not use.\n",
      "  stat_data = remove_na(group_data)\n"
     ]
    },
    {
     "data": {
      "image/png": "[encoded data removed]",
      "text/plain": [
       "<matplotlib.figure.Figure at 0x7fe603d27a90>"
      ]
     },
     "metadata": {},
     "output_type": "display_data"
    }
   ],
   "source": [
    "plt.rcParams['font.family'] = 'Tahoma'\n",
    "plt.rcParams['figure.figsize'] = 16, 5\n",
    "province_count = df_prep['province'].value_counts()[:40,]\n",
    "sns.barplot(province_count.index, province_count.values)\n",
    "plt.title('Number of Accidence', fontsize=16)\n",
    "plt.xlabel('Province', fontsize=18)\n",
    "plt.xticks(rotation=90)\n",
    "plt.show()"
   ]
  },
  {
   "cell_type": "markdown",
   "metadata": {},
   "source": [
    "__d) ถนนที่เกิดอุบัติเหตุบ่อยสุด __"
   ]
  },
  {
   "cell_type": "code",
   "execution_count": 46,
   "metadata": {
    "collapsed": false
   },
   "outputs": [
    {
     "name": "stderr",
     "output_type": "stream",
     "text": [
      "/home/kanda/Applications/anaconda3/lib/python3.6/site-packages/seaborn/categorical.py:1428: FutureWarning: remove_na is deprecated and is a private function. Do not use.\n",
      "  stat_data = remove_na(group_data)\n"
     ]
    },
    {
     "data": {
      "image/png": "[encoded data removed]",
      "text/plain": [
       "<matplotlib.figure.Figure at 0x7fe60360e080>"
      ]
     },
     "metadata": {},
     "output_type": "display_data"
    }
   ],
   "source": [
    "plt.rcParams['figure.figsize'] = 10, 5\n",
    "count_data = df_prep['ROADTYPE_NAME'].value_counts()[:40,]\n",
    "sns.barplot(count_data.index, count_data.values)\n",
    "plt.title('Number of Accidence', fontsize=16)\n",
    "plt.xlabel('Roadtype', fontsize=18)\n",
    "plt.xticks()\n",
    "plt.show()"
   ]
  },
  {
   "cell_type": "markdown",
   "metadata": {},
   "source": [
    "__e) สภาพถนนที่เกิดอุบัติเหตุ__"
   ]
  },
  {
   "cell_type": "code",
   "execution_count": 47,
   "metadata": {
    "collapsed": false
   },
   "outputs": [
    {
     "name": "stderr",
     "output_type": "stream",
     "text": [
      "/home/kanda/Applications/anaconda3/lib/python3.6/site-packages/seaborn/categorical.py:1428: FutureWarning: remove_na is deprecated and is a private function. Do not use.\n",
      "  stat_data = remove_na(group_data)\n"
     ]
    },
    {
     "data": {
      "image/png": "[encoded data removed]",
      "text/plain": [
       "<matplotlib.figure.Figure at 0x7fe603ad3e48>"
      ]
     },
     "metadata": {},
     "output_type": "display_data"
    }
   ],
   "source": [
    "count_data = df_prep['ROADSKIN_NAME'].value_counts()[:40,]\n",
    "sns.barplot(count_data.index, count_data.values)\n",
    "plt.title('Number of Accidence', fontsize=16)\n",
    "plt.xlabel('ROADSKIN_NAME', fontsize=18)\n",
    "plt.show()"
   ]
  },
  {
   "cell_type": "markdown",
   "metadata": {},
   "source": [
    "__f) จุดที่เกิดอุบัติเหตุ__"
   ]
  },
  {
   "cell_type": "code",
   "execution_count": 48,
   "metadata": {
    "collapsed": false
   },
   "outputs": [
    {
     "name": "stderr",
     "output_type": "stream",
     "text": [
      "/home/kanda/Applications/anaconda3/lib/python3.6/site-packages/seaborn/categorical.py:1428: FutureWarning: remove_na is deprecated and is a private function. Do not use.\n",
      "  stat_data = remove_na(group_data)\n"
     ]
    },
    {
     "data": {
      "image/png": "[encoded data removed]",
      "text/plain": [
       "<matplotlib.figure.Figure at 0x7fe603b74160>"
      ]
     },
     "metadata": {},
     "output_type": "display_data"
    }
   ],
   "source": [
    "count_data = df_prep['ACDPOINT_NAME'].value_counts()[:40,]\n",
    "sns.barplot(count_data.index, count_data.values)\n",
    "plt.title('Number of Accidence', fontsize=16)\n",
    "plt.xlabel('ACDPOINT_NAME', fontsize=18)\n",
    "plt.show()"
   ]
  },
  {
   "cell_type": "markdown",
   "metadata": {},
   "source": [
    "__g) สภาพอากาศที่เกิดอุบัติเหตุ__"
   ]
  },
  {
   "cell_type": "code",
   "execution_count": 49,
   "metadata": {
    "collapsed": false
   },
   "outputs": [
    {
     "name": "stderr",
     "output_type": "stream",
     "text": [
      "/home/kanda/Applications/anaconda3/lib/python3.6/site-packages/seaborn/categorical.py:1428: FutureWarning: remove_na is deprecated and is a private function. Do not use.\n",
      "  stat_data = remove_na(group_data)\n"
     ]
    },
    {
     "data": {
      "image/png": "[encoded data removed]",
      "text/plain": [
       "<matplotlib.figure.Figure at 0x7fe6033a2390>"
      ]
     },
     "metadata": {},
     "output_type": "display_data"
    }
   ],
   "source": [
    "count_data = df_prep['ATMOSPHERE_NAME'].value_counts()[:40,]\n",
    "sns.barplot(count_data.index, count_data.values)\n",
    "plt.title('Number of Accidence', fontsize=16)\n",
    "plt.xlabel('ATMOSPHERE_NAME', fontsize=18)\n",
    "plt.show()"
   ]
  },
  {
   "cell_type": "markdown",
   "metadata": {},
   "source": [
    "__h) แสงไฟที่เกิดอุบัติเหตุ__"
   ]
  },
  {
   "cell_type": "code",
   "execution_count": 89,
   "metadata": {
    "collapsed": false
   },
   "outputs": [
    {
     "name": "stderr",
     "output_type": "stream",
     "text": [
      "/home/kanda/Applications/anaconda3/lib/python3.6/site-packages/seaborn/categorical.py:1428: FutureWarning: remove_na is deprecated and is a private function. Do not use.\n",
      "  stat_data = remove_na(group_data)\n"
     ]
    },
    {
     "data": {
      "image/png": "[encoded data removed]",
      "text/plain": [
       "<matplotlib.figure.Figure at 0x7f7f297bbb00>"
      ]
     },
     "metadata": {},
     "output_type": "display_data"
    }
   ],
   "source": [
    "count_data = df_prep['LIGHT_NAME'].value_counts()[:40,]\n",
    "sns.barplot(count_data.index, count_data.values)\n",
    "plt.title('Number of Accidence', fontsize=16)\n",
    "plt.xlabel('LIGHT_NAME', fontsize=18)\n",
    "plt.show()    "
   ]
  },
  {
   "cell_type": "markdown",
   "metadata": {
    "collapsed": true
   },
   "source": [
    "---"
   ]
  }
 ],
 "metadata": {
  "kernelspec": {
   "display_name": "Python 3",
   "language": "python",
   "name": "python3"
  },
  "language_info": {
   "codemirror_mode": {
    "name": "ipython",
    "version": 3
   },
   "file_extension": ".py",
   "mimetype": "text/x-python",
   "name": "python",
   "nbconvert_exporter": "python",
   "pygments_lexer": "ipython3",
   "version": "3.6.0"
  }
 },
 "nbformat": 4,
 "nbformat_minor": 2
}
