{
 "cells": [
  {
   "cell_type": "markdown",
   "metadata": {},
   "source": [
    "# Machine Learning for Insurance Example\n",
    "\n",
    "### Adopted from [Randal S. Olson](http://www.randalolson.com/) \n",
    "### Edited by ASKS Data Science Group\n",
    "#### Supported by [THRES]"
   ]
  },
  {
   "cell_type": "markdown",
   "metadata": {},
   "source": []
  },
  {
   "cell_type": "markdown",
   "metadata": {},
   "source": [
    "## Table of contents\n",
    "\n",
    "1. [License](#License)\n",
    "\n",
    "2. [Step 1: Problem Setting](#Step-1:-Understanding-the-)\n",
    "\n",
    "3. [Step 2: Checking the data](#Step-2:-Checking-the-data)\n",
    "\n",
    "4. [Step 3: Preparing the data](#Step-3:-Preparing-the-data)\n",
    "\n",
    "5. [Step 4: Classification](#Step-4:-Classification)\n",
    "    - [Decision Tree](#Decision-Tree)\n",
    "    - [Random Forest](#Random-Forest)\n",
    "    - [kNN](#kNN)\n",
    "    - [SVM](#SVM)\n",
    "    - [Naive Bayes](#Decision-Tree)\n",
    "    - [Binary Classification](#Binary-Classification)\n",
    "6. [Step 5: Regression](#Step-5:-Regression)\n",
    "    - [Regression Tree](#Regression-Tree)\n",
    "    - [Random Forest Regressor](#Random-Forest-Regressor)\n",
    "    - [Linear Regression](#Linear-Regression)\n",
    "    - [Neural Network](#Neural-Network)\n",
    "7. [Step 6: Methodologies](#Step-6:-Methodologies)\n",
    "    - [Feature Selection](#Feature-Selection)\n",
    "    - [Parameter Tuning](#Parameter-Tuning)\n",
    "    - [Models Comparison](#Models-Comparison)   "
   ]
  },
  {
   "cell_type": "markdown",
   "metadata": {},
   "source": [
    "## License\n",
    "\n",
    "Please see the original [repository README file](https://github.com/rhiever/Data-Analysis-and-Machine-Learning-Projects#license) for the licenses and usage terms for the instructional material and code in this notebook. I cloned and then edited it from the original authors. For any further usage, please follows them."
   ]
  },
  {
   "cell_type": "markdown",
   "metadata": {},
   "source": [
    "## Step 1: The question\n",
    "\n",
    "For this workshop, we will work on our example from yesterday. We will try to classify the medical-risk-level (i.e., class) of the customered based on provided data. We are still building a data analysis pipeline for a smartphone app that will be able to classify the medical-risk of customer. However, we will explore multiple models. Since we learn that it's possible to predict the model with high accuracy as the classification task. We will look at the problem as both the regression task, where we want to predict the actual medical charges."
   ]
  },
  {
   "cell_type": "markdown",
   "metadata": {},
   "source": [
    "## Step 2: Checking the data\n",
    "\n",
    "If we work with the new data, we should begin the process we did yesterday. Now, let's begin from a new. While encoding categorical feature is not necessary in principle, it is usually a requirement for all classification algorithms in sklearn. So, we will convert them just as yesterday as well"
   ]
  },
  {
   "cell_type": "code",
   "execution_count": 1,
   "metadata": {},
   "outputs": [
    {
     "data": {
      "text/html": [
       "<div>\n",
       "<style scoped>\n",
       "    .dataframe tbody tr th:only-of-type {\n",
       "        vertical-align: middle;\n",
       "    }\n",
       "\n",
       "    .dataframe tbody tr th {\n",
       "        vertical-align: top;\n",
       "    }\n",
       "\n",
       "    .dataframe thead th {\n",
       "        text-align: right;\n",
       "    }\n",
       "</style>\n",
       "<table border=\"1\" class=\"dataframe\">\n",
       "  <thead>\n",
       "    <tr style=\"text-align: right;\">\n",
       "      <th></th>\n",
       "      <th>age</th>\n",
       "      <th>sex</th>\n",
       "      <th>bmi</th>\n",
       "      <th>children</th>\n",
       "      <th>smoker</th>\n",
       "      <th>region</th>\n",
       "      <th>charges</th>\n",
       "    </tr>\n",
       "  </thead>\n",
       "  <tbody>\n",
       "    <tr>\n",
       "      <th>0</th>\n",
       "      <td>19</td>\n",
       "      <td>female</td>\n",
       "      <td>27.900</td>\n",
       "      <td>0</td>\n",
       "      <td>yes</td>\n",
       "      <td>middle</td>\n",
       "      <td>16884.92400</td>\n",
       "    </tr>\n",
       "    <tr>\n",
       "      <th>1</th>\n",
       "      <td>18</td>\n",
       "      <td>male</td>\n",
       "      <td>33.770</td>\n",
       "      <td>1</td>\n",
       "      <td>no</td>\n",
       "      <td>south</td>\n",
       "      <td>1725.55230</td>\n",
       "    </tr>\n",
       "    <tr>\n",
       "      <th>2</th>\n",
       "      <td>28</td>\n",
       "      <td>male</td>\n",
       "      <td>33.000</td>\n",
       "      <td>3</td>\n",
       "      <td>no</td>\n",
       "      <td>south</td>\n",
       "      <td>4449.46200</td>\n",
       "    </tr>\n",
       "    <tr>\n",
       "      <th>3</th>\n",
       "      <td>33</td>\n",
       "      <td>male</td>\n",
       "      <td>22.705</td>\n",
       "      <td>0</td>\n",
       "      <td>no</td>\n",
       "      <td>north</td>\n",
       "      <td>21984.47061</td>\n",
       "    </tr>\n",
       "    <tr>\n",
       "      <th>4</th>\n",
       "      <td>32</td>\n",
       "      <td>male</td>\n",
       "      <td>28.880</td>\n",
       "      <td>0</td>\n",
       "      <td>no</td>\n",
       "      <td>north</td>\n",
       "      <td>3866.85520</td>\n",
       "    </tr>\n",
       "  </tbody>\n",
       "</table>\n",
       "</div>"
      ],
      "text/plain": [
       "   age     sex     bmi  children smoker  region      charges\n",
       "0   19  female  27.900         0    yes  middle  16884.92400\n",
       "1   18    male  33.770         1     no   south   1725.55230\n",
       "2   28    male  33.000         3     no   south   4449.46200\n",
       "3   33    male  22.705         0     no   north  21984.47061\n",
       "4   32    male  28.880         0     no   north   3866.85520"
      ]
     },
     "execution_count": 1,
     "metadata": {},
     "output_type": "execute_result"
    }
   ],
   "source": [
    "import pandas as pd\n",
    "import warnings\n",
    "warnings.filterwarnings('ignore')\n",
    "\n",
    "insurance_data = pd.read_csv('../data/insurance.csv', na_values=['NA'])\n",
    "insurance_data.head()"
   ]
  },
  {
   "cell_type": "markdown",
   "metadata": {},
   "source": [
    "Next, we look at the distribution of our data by printing out some summary statistics about the data set.\n"
   ]
  },
  {
   "cell_type": "code",
   "execution_count": 2,
   "metadata": {},
   "outputs": [
    {
     "data": {
      "text/html": [
       "<div>\n",
       "<style scoped>\n",
       "    .dataframe tbody tr th:only-of-type {\n",
       "        vertical-align: middle;\n",
       "    }\n",
       "\n",
       "    .dataframe tbody tr th {\n",
       "        vertical-align: top;\n",
       "    }\n",
       "\n",
       "    .dataframe thead th {\n",
       "        text-align: right;\n",
       "    }\n",
       "</style>\n",
       "<table border=\"1\" class=\"dataframe\">\n",
       "  <thead>\n",
       "    <tr style=\"text-align: right;\">\n",
       "      <th></th>\n",
       "      <th>age</th>\n",
       "      <th>sex</th>\n",
       "      <th>bmi</th>\n",
       "      <th>children</th>\n",
       "      <th>smoker</th>\n",
       "      <th>region</th>\n",
       "      <th>charges</th>\n",
       "    </tr>\n",
       "  </thead>\n",
       "  <tbody>\n",
       "    <tr>\n",
       "      <th>count</th>\n",
       "      <td>1338.000000</td>\n",
       "      <td>1338</td>\n",
       "      <td>1338.000000</td>\n",
       "      <td>1338.000000</td>\n",
       "      <td>1338</td>\n",
       "      <td>1338</td>\n",
       "      <td>1338.000000</td>\n",
       "    </tr>\n",
       "    <tr>\n",
       "      <th>unique</th>\n",
       "      <td>NaN</td>\n",
       "      <td>2</td>\n",
       "      <td>NaN</td>\n",
       "      <td>NaN</td>\n",
       "      <td>2</td>\n",
       "      <td>4</td>\n",
       "      <td>NaN</td>\n",
       "    </tr>\n",
       "    <tr>\n",
       "      <th>top</th>\n",
       "      <td>NaN</td>\n",
       "      <td>male</td>\n",
       "      <td>NaN</td>\n",
       "      <td>NaN</td>\n",
       "      <td>no</td>\n",
       "      <td>south</td>\n",
       "      <td>NaN</td>\n",
       "    </tr>\n",
       "    <tr>\n",
       "      <th>freq</th>\n",
       "      <td>NaN</td>\n",
       "      <td>676</td>\n",
       "      <td>NaN</td>\n",
       "      <td>NaN</td>\n",
       "      <td>1064</td>\n",
       "      <td>364</td>\n",
       "      <td>NaN</td>\n",
       "    </tr>\n",
       "    <tr>\n",
       "      <th>mean</th>\n",
       "      <td>39.207025</td>\n",
       "      <td>NaN</td>\n",
       "      <td>30.663397</td>\n",
       "      <td>1.094918</td>\n",
       "      <td>NaN</td>\n",
       "      <td>NaN</td>\n",
       "      <td>13270.422265</td>\n",
       "    </tr>\n",
       "    <tr>\n",
       "      <th>std</th>\n",
       "      <td>14.049960</td>\n",
       "      <td>NaN</td>\n",
       "      <td>6.098187</td>\n",
       "      <td>1.205493</td>\n",
       "      <td>NaN</td>\n",
       "      <td>NaN</td>\n",
       "      <td>12110.011237</td>\n",
       "    </tr>\n",
       "    <tr>\n",
       "      <th>min</th>\n",
       "      <td>18.000000</td>\n",
       "      <td>NaN</td>\n",
       "      <td>15.960000</td>\n",
       "      <td>0.000000</td>\n",
       "      <td>NaN</td>\n",
       "      <td>NaN</td>\n",
       "      <td>1121.873900</td>\n",
       "    </tr>\n",
       "    <tr>\n",
       "      <th>25%</th>\n",
       "      <td>27.000000</td>\n",
       "      <td>NaN</td>\n",
       "      <td>26.296250</td>\n",
       "      <td>0.000000</td>\n",
       "      <td>NaN</td>\n",
       "      <td>NaN</td>\n",
       "      <td>4740.287150</td>\n",
       "    </tr>\n",
       "    <tr>\n",
       "      <th>50%</th>\n",
       "      <td>39.000000</td>\n",
       "      <td>NaN</td>\n",
       "      <td>30.400000</td>\n",
       "      <td>1.000000</td>\n",
       "      <td>NaN</td>\n",
       "      <td>NaN</td>\n",
       "      <td>9382.033000</td>\n",
       "    </tr>\n",
       "    <tr>\n",
       "      <th>75%</th>\n",
       "      <td>51.000000</td>\n",
       "      <td>NaN</td>\n",
       "      <td>34.693750</td>\n",
       "      <td>2.000000</td>\n",
       "      <td>NaN</td>\n",
       "      <td>NaN</td>\n",
       "      <td>16639.912515</td>\n",
       "    </tr>\n",
       "    <tr>\n",
       "      <th>max</th>\n",
       "      <td>64.000000</td>\n",
       "      <td>NaN</td>\n",
       "      <td>53.130000</td>\n",
       "      <td>5.000000</td>\n",
       "      <td>NaN</td>\n",
       "      <td>NaN</td>\n",
       "      <td>63770.428010</td>\n",
       "    </tr>\n",
       "  </tbody>\n",
       "</table>\n",
       "</div>"
      ],
      "text/plain": [
       "                age   sex          bmi     children smoker region  \\\n",
       "count   1338.000000  1338  1338.000000  1338.000000   1338   1338   \n",
       "unique          NaN     2          NaN          NaN      2      4   \n",
       "top             NaN  male          NaN          NaN     no  south   \n",
       "freq            NaN   676          NaN          NaN   1064    364   \n",
       "mean      39.207025   NaN    30.663397     1.094918    NaN    NaN   \n",
       "std       14.049960   NaN     6.098187     1.205493    NaN    NaN   \n",
       "min       18.000000   NaN    15.960000     0.000000    NaN    NaN   \n",
       "25%       27.000000   NaN    26.296250     0.000000    NaN    NaN   \n",
       "50%       39.000000   NaN    30.400000     1.000000    NaN    NaN   \n",
       "75%       51.000000   NaN    34.693750     2.000000    NaN    NaN   \n",
       "max       64.000000   NaN    53.130000     5.000000    NaN    NaN   \n",
       "\n",
       "             charges  \n",
       "count    1338.000000  \n",
       "unique           NaN  \n",
       "top              NaN  \n",
       "freq             NaN  \n",
       "mean    13270.422265  \n",
       "std     12110.011237  \n",
       "min      1121.873900  \n",
       "25%      4740.287150  \n",
       "50%      9382.033000  \n",
       "75%     16639.912515  \n",
       "max     63770.428010  "
      ]
     },
     "execution_count": 2,
     "metadata": {},
     "output_type": "execute_result"
    }
   ],
   "source": [
    "insurance_data.describe(include='all')"
   ]
  },
  {
   "cell_type": "markdown",
   "metadata": {},
   "source": [
    "## Step 3: Preparing the data\n",
    "\n",
    "Now that we've looked at the data set, we need to prepare them before we proceed with the analysis for both the regression, and the classification. Again, we will use the DataFrame for both tasks. From the previous day, we drop all customers with charges > 60,000. "
   ]
  },
  {
   "cell_type": "code",
   "execution_count": 3,
   "metadata": {},
   "outputs": [
    {
     "data": {
      "text/html": [
       "<div>\n",
       "<style scoped>\n",
       "    .dataframe tbody tr th:only-of-type {\n",
       "        vertical-align: middle;\n",
       "    }\n",
       "\n",
       "    .dataframe tbody tr th {\n",
       "        vertical-align: top;\n",
       "    }\n",
       "\n",
       "    .dataframe thead th {\n",
       "        text-align: right;\n",
       "    }\n",
       "</style>\n",
       "<table border=\"1\" class=\"dataframe\">\n",
       "  <thead>\n",
       "    <tr style=\"text-align: right;\">\n",
       "      <th></th>\n",
       "      <th>age</th>\n",
       "      <th>sex</th>\n",
       "      <th>bmi</th>\n",
       "      <th>children</th>\n",
       "      <th>smoker</th>\n",
       "      <th>region</th>\n",
       "      <th>charges</th>\n",
       "      <th>sex_code</th>\n",
       "      <th>smoker_code</th>\n",
       "      <th>region_code</th>\n",
       "    </tr>\n",
       "  </thead>\n",
       "  <tbody>\n",
       "  </tbody>\n",
       "</table>\n",
       "</div>"
      ],
      "text/plain": [
       "Empty DataFrame\n",
       "Columns: [age, sex, bmi, children, smoker, region, charges, sex_code, smoker_code, region_code]\n",
       "Index: []"
      ]
     },
     "execution_count": 3,
     "metadata": {},
     "output_type": "execute_result"
    }
   ],
   "source": [
    "%matplotlib inline\n",
    "\n",
    "import matplotlib.pyplot as plt\n",
    "import seaborn as sb\n",
    "from sklearn.preprocessing import LabelEncoder\n",
    "\n",
    "#We usually need to encode the categorical data for the classifiers\n",
    "lb_make = LabelEncoder()\n",
    "insurance_data[\"sex_code\"] = lb_make.fit_transform(insurance_data[\"sex\"])\n",
    "insurance_data[\"smoker_code\"] = lb_make.fit_transform(insurance_data[\"smoker\"])\n",
    "insurance_data[\"region_code\"] = lb_make.fit_transform(insurance_data[\"region\"])\n",
    "insurance_data = insurance_data.loc[insurance_data['charges'] <= 60000];\n",
    "insurance_data.loc[insurance_data['charges']> 60000]"
   ]
  },
  {
   "cell_type": "markdown",
   "metadata": {},
   "source": [
    "Now, let us prepare the multi-class classification with three class types."
   ]
  },
  {
   "cell_type": "code",
   "execution_count": 4,
   "metadata": {},
   "outputs": [
    {
     "data": {
      "text/html": [
       "<div>\n",
       "<style scoped>\n",
       "    .dataframe tbody tr th:only-of-type {\n",
       "        vertical-align: middle;\n",
       "    }\n",
       "\n",
       "    .dataframe tbody tr th {\n",
       "        vertical-align: top;\n",
       "    }\n",
       "\n",
       "    .dataframe thead th {\n",
       "        text-align: right;\n",
       "    }\n",
       "</style>\n",
       "<table border=\"1\" class=\"dataframe\">\n",
       "  <thead>\n",
       "    <tr style=\"text-align: right;\">\n",
       "      <th></th>\n",
       "      <th>age</th>\n",
       "      <th>sex</th>\n",
       "      <th>bmi</th>\n",
       "      <th>children</th>\n",
       "      <th>smoker</th>\n",
       "      <th>region</th>\n",
       "      <th>charges</th>\n",
       "      <th>sex_code</th>\n",
       "      <th>smoker_code</th>\n",
       "      <th>region_code</th>\n",
       "      <th>risk_level</th>\n",
       "    </tr>\n",
       "  </thead>\n",
       "  <tbody>\n",
       "    <tr>\n",
       "      <th>0</th>\n",
       "      <td>19</td>\n",
       "      <td>female</td>\n",
       "      <td>27.900</td>\n",
       "      <td>0</td>\n",
       "      <td>yes</td>\n",
       "      <td>middle</td>\n",
       "      <td>16884.92400</td>\n",
       "      <td>0</td>\n",
       "      <td>1</td>\n",
       "      <td>0</td>\n",
       "      <td>MID</td>\n",
       "    </tr>\n",
       "    <tr>\n",
       "      <th>1</th>\n",
       "      <td>18</td>\n",
       "      <td>male</td>\n",
       "      <td>33.770</td>\n",
       "      <td>1</td>\n",
       "      <td>no</td>\n",
       "      <td>south</td>\n",
       "      <td>1725.55230</td>\n",
       "      <td>1</td>\n",
       "      <td>0</td>\n",
       "      <td>3</td>\n",
       "      <td>LOW</td>\n",
       "    </tr>\n",
       "    <tr>\n",
       "      <th>2</th>\n",
       "      <td>28</td>\n",
       "      <td>male</td>\n",
       "      <td>33.000</td>\n",
       "      <td>3</td>\n",
       "      <td>no</td>\n",
       "      <td>south</td>\n",
       "      <td>4449.46200</td>\n",
       "      <td>1</td>\n",
       "      <td>0</td>\n",
       "      <td>3</td>\n",
       "      <td>LOW</td>\n",
       "    </tr>\n",
       "    <tr>\n",
       "      <th>3</th>\n",
       "      <td>33</td>\n",
       "      <td>male</td>\n",
       "      <td>22.705</td>\n",
       "      <td>0</td>\n",
       "      <td>no</td>\n",
       "      <td>north</td>\n",
       "      <td>21984.47061</td>\n",
       "      <td>1</td>\n",
       "      <td>0</td>\n",
       "      <td>1</td>\n",
       "      <td>MID</td>\n",
       "    </tr>\n",
       "    <tr>\n",
       "      <th>4</th>\n",
       "      <td>32</td>\n",
       "      <td>male</td>\n",
       "      <td>28.880</td>\n",
       "      <td>0</td>\n",
       "      <td>no</td>\n",
       "      <td>north</td>\n",
       "      <td>3866.85520</td>\n",
       "      <td>1</td>\n",
       "      <td>0</td>\n",
       "      <td>1</td>\n",
       "      <td>LOW</td>\n",
       "    </tr>\n",
       "  </tbody>\n",
       "</table>\n",
       "</div>"
      ],
      "text/plain": [
       "   age     sex     bmi  children smoker  region      charges  sex_code  \\\n",
       "0   19  female  27.900         0    yes  middle  16884.92400         0   \n",
       "1   18    male  33.770         1     no   south   1725.55230         1   \n",
       "2   28    male  33.000         3     no   south   4449.46200         1   \n",
       "3   33    male  22.705         0     no   north  21984.47061         1   \n",
       "4   32    male  28.880         0     no   north   3866.85520         1   \n",
       "\n",
       "   smoker_code  region_code risk_level  \n",
       "0            1            0        MID  \n",
       "1            0            3        LOW  \n",
       "2            0            3        LOW  \n",
       "3            0            1        MID  \n",
       "4            0            1        LOW  "
      ]
     },
     "execution_count": 4,
     "metadata": {},
     "output_type": "execute_result"
    }
   ],
   "source": [
    "insurance_data[\"risk_level\"] = pd.cut(insurance_data[\"charges\"],bins=[0,15000,30000,60000],right=True,labels=[\"LOW\", \"MID\", \"HIGH\"])\n",
    "insurance_data.head()"
   ]
  },
  {
   "cell_type": "markdown",
   "metadata": {},
   "source": [
    "Next, let's drop the charges column out for classifcation."
   ]
  },
  {
   "cell_type": "code",
   "execution_count": 5,
   "metadata": {},
   "outputs": [
    {
     "data": {
      "text/html": [
       "<div>\n",
       "<style scoped>\n",
       "    .dataframe tbody tr th:only-of-type {\n",
       "        vertical-align: middle;\n",
       "    }\n",
       "\n",
       "    .dataframe tbody tr th {\n",
       "        vertical-align: top;\n",
       "    }\n",
       "\n",
       "    .dataframe thead th {\n",
       "        text-align: right;\n",
       "    }\n",
       "</style>\n",
       "<table border=\"1\" class=\"dataframe\">\n",
       "  <thead>\n",
       "    <tr style=\"text-align: right;\">\n",
       "      <th></th>\n",
       "      <th>age</th>\n",
       "      <th>bmi</th>\n",
       "      <th>children</th>\n",
       "      <th>sex_code</th>\n",
       "      <th>smoker_code</th>\n",
       "      <th>region_code</th>\n",
       "      <th>risk_level</th>\n",
       "    </tr>\n",
       "  </thead>\n",
       "  <tbody>\n",
       "    <tr>\n",
       "      <th>0</th>\n",
       "      <td>19</td>\n",
       "      <td>27.900</td>\n",
       "      <td>0</td>\n",
       "      <td>0</td>\n",
       "      <td>1</td>\n",
       "      <td>0</td>\n",
       "      <td>MID</td>\n",
       "    </tr>\n",
       "    <tr>\n",
       "      <th>1</th>\n",
       "      <td>18</td>\n",
       "      <td>33.770</td>\n",
       "      <td>1</td>\n",
       "      <td>1</td>\n",
       "      <td>0</td>\n",
       "      <td>3</td>\n",
       "      <td>LOW</td>\n",
       "    </tr>\n",
       "    <tr>\n",
       "      <th>2</th>\n",
       "      <td>28</td>\n",
       "      <td>33.000</td>\n",
       "      <td>3</td>\n",
       "      <td>1</td>\n",
       "      <td>0</td>\n",
       "      <td>3</td>\n",
       "      <td>LOW</td>\n",
       "    </tr>\n",
       "    <tr>\n",
       "      <th>3</th>\n",
       "      <td>33</td>\n",
       "      <td>22.705</td>\n",
       "      <td>0</td>\n",
       "      <td>1</td>\n",
       "      <td>0</td>\n",
       "      <td>1</td>\n",
       "      <td>MID</td>\n",
       "    </tr>\n",
       "    <tr>\n",
       "      <th>4</th>\n",
       "      <td>32</td>\n",
       "      <td>28.880</td>\n",
       "      <td>0</td>\n",
       "      <td>1</td>\n",
       "      <td>0</td>\n",
       "      <td>1</td>\n",
       "      <td>LOW</td>\n",
       "    </tr>\n",
       "  </tbody>\n",
       "</table>\n",
       "</div>"
      ],
      "text/plain": [
       "   age     bmi  children  sex_code  smoker_code  region_code risk_level\n",
       "0   19  27.900         0         0            1            0        MID\n",
       "1   18  33.770         1         1            0            3        LOW\n",
       "2   28  33.000         3         1            0            3        LOW\n",
       "3   33  22.705         0         1            0            1        MID\n",
       "4   32  28.880         0         1            0            1        LOW"
      ]
     },
     "execution_count": 5,
     "metadata": {},
     "output_type": "execute_result"
    }
   ],
   "source": [
    "insurance_classification = insurance_data.drop(columns=['sex', 'smoker', 'region','charges'])\n",
    "insurance_classification.head()"
   ]
  },
  {
   "cell_type": "markdown",
   "metadata": {},
   "source": [
    "Now, let's drop the risk_level for regression."
   ]
  },
  {
   "cell_type": "code",
   "execution_count": 6,
   "metadata": {},
   "outputs": [],
   "source": [
    "insurance_regression = insurance_data.drop(columns=['sex', 'smoker', 'region','risk_level'])\n",
    "insurance_regression.head()"
   ]
  },
  {
   "cell_type": "markdown",
   "metadata": {},
   "source": [
    "## Step 4: Classification\n",
    "\n",
    "After data preparation process, our data is assume to be cleaned. Next, we can create a classification model.\n",
    "\n",
    "Remember: **Bad data leads to bad models.** Always check your data first.\n",
    "\n",
    "<hr />\n",
    "\n",
    "Supervised Learning Methodologies\n",
    "\n",
    "Let's set up our data first, were we will not touch our test data."
   ]
  },
  {
   "cell_type": "code",
   "execution_count": 7,
   "metadata": {},
   "outputs": [],
   "source": [
    "import itertools\n",
    "import numpy as np\n",
    "from sklearn.model_selection import train_test_split\n",
    "from sklearn.metrics import classification_report\n",
    "from sklearn.metrics import confusion_matrix\n",
    "\n",
    "# We can extract the data in this format from pandas like this:\n",
    "all_inputs = insurance_classification[['age', 'bmi', 'children', 'sex_code', 'smoker_code', 'region_code']]\n",
    "# Similarly, we can extract the class labels\n",
    "all_labels = insurance_classification['risk_level']\n",
    "\n",
    "# Let us have a 30% holdout data for testing\n",
    "(training_inputs, testing_inputs, training_classes, testing_classes) = train_test_split(all_inputs, all_labels, test_size=0.3)"
   ]
  },
  {
   "cell_type": "code",
   "execution_count": 8,
   "metadata": {},
   "outputs": [],
   "source": [
    "#This function is taken from sklearn document\n",
    "def plot_confusion_matrix(cm, classes,\n",
    "                          normalize=False,\n",
    "                          title='Confusion matrix',\n",
    "                          cmap=plt.cm.Blues):\n",
    "    \"\"\"\n",
    "    This function prints and plots the confusion matrix.\n",
    "    Normalization can be applied by setting `normalize=True`.\n",
    "    \"\"\"\n",
    "    if normalize:\n",
    "        cm = cm.astype('float') / cm.sum(axis=1)[:, np.newaxis]\n",
    "        print(\"Normalized confusion matrix\")\n",
    "    else:\n",
    "        print('Confusion matrix, without normalization')\n",
    "\n",
    "    print(cm)\n",
    "\n",
    "    plt.imshow(cm, interpolation='nearest', cmap=cmap)\n",
    "    plt.title(title)\n",
    "    plt.colorbar()\n",
    "    tick_marks = np.arange(len(classes))\n",
    "    plt.xticks(tick_marks, classes, rotation=45)\n",
    "    plt.yticks(tick_marks, classes)\n",
    "\n",
    "    fmt = '.2f' if normalize else 'd'\n",
    "    thresh = cm.max() / 2.\n",
    "    for i, j in itertools.product(range(cm.shape[0]), range(cm.shape[1])):\n",
    "        plt.text(j, i, format(cm[i, j], fmt),\n",
    "                 horizontalalignment=\"center\",\n",
    "                 color=\"white\" if cm[i, j] > thresh else \"black\")\n",
    "\n",
    "    plt.ylabel('True label')\n",
    "    plt.xlabel('Predicted label')\n",
    "    plt.tight_layout()"
   ]
  },
  {
   "cell_type": "markdown",
   "metadata": {},
   "source": [
    "### Decision Tree\n",
    "\n",
    "With our data split, we can fit models to our data, starting with our good old decision tree classifer."
   ]
  },
  {
   "cell_type": "code",
   "execution_count": 9,
   "metadata": {},
   "outputs": [
    {
     "name": "stdout",
     "output_type": "stream",
     "text": [
      "Decision Tree model acuracy is  0.8528678304239401\n"
     ]
    }
   ],
   "source": [
    "from sklearn.tree import DecisionTreeClassifier\n",
    "\n",
    "# Create the classifier\n",
    "decision_tree_classifier = DecisionTreeClassifier()\n",
    "\n",
    "# Train the classifier on the training set\n",
    "decision_tree_classifier.fit(training_inputs, training_classes)\n",
    "\n",
    "# Validate the classifier on the testing set using classification accuracy\n",
    "accuracy = decision_tree_classifier.score(testing_inputs, testing_classes)\n",
    "print('Decision Tree model acuracy is ',accuracy)\n"
   ]
  },
  {
   "cell_type": "code",
   "execution_count": 10,
   "metadata": {},
   "outputs": [
    {
     "name": "stdout",
     "output_type": "stream",
     "text": [
      "Decision Tree model evaluations are: \n",
      "              precision    recall  f1-score   support\n",
      "\n",
      "        HIGH       0.90      0.88      0.89        43\n",
      "         LOW       0.89      0.93      0.91       290\n",
      "         MID       0.61      0.51      0.56        68\n",
      "\n",
      "   micro avg       0.85      0.85      0.85       401\n",
      "   macro avg       0.80      0.78      0.79       401\n",
      "weighted avg       0.85      0.85      0.85       401\n",
      "\n",
      "Confusion matrix, without normalization\n",
      "[[269  18   3]\n",
      " [ 32  35   1]\n",
      " [  1   4  38]]\n"
     ]
    },
    {
     "data": {
      "image/png": "[encoded data removed]",
      "text/plain": [
       "<Figure size 432x288 with 2 Axes>"
      ]
     },
     "metadata": {
      "needs_background": "light"
     },
     "output_type": "display_data"
    }
   ],
   "source": [
    "# Compute the evaluation matrix\n",
    "print('Decision Tree model evaluations are: ')\n",
    "testing_pred = decision_tree_classifier.predict(testing_inputs)\n",
    "print(classification_report(testing_classes, testing_pred))\n",
    "cnf_matrix = confusion_matrix(testing_classes, testing_pred, labels=[\"LOW\", \"MID\", \"HIGH\"]);\n",
    "plt.figure()\n",
    "plot_confusion_matrix(cnf_matrix, classes=[\"LOW\", \"MID\", \"HIGH\"],\n",
    "                      title='Confusion matrix, without normalization')"
   ]
  },
  {
   "cell_type": "markdown",
   "metadata": {},
   "source": [
    "### Random Forest\n",
    "\n",
    "In practice, Random Forest classifier usually works better than individual decision tree. It often outperforms many other complex model such as Neural Network and SVM. Those models suffer from variance in the data. **Random Forest classifiers** work around such limitations by creating a whole bunch of decision trees (hence \"forest\") — each trained on random subsets of training samples (drawn with replacement) and features (drawn without replacement) — and have the decision trees work together to make a more accurate classification.\n",
    "\n",
    "Let that be a lesson for us: **Even in Machine Learning, we get better results when we work together!**\n",
    "\n",
    "Let's see if a Random Forest classifier works better here.\n",
    "\n",
    "The great part about scikit-learn is that the training, testing, parameter tuning, etc. process is the same for all models, so we only need to plug in the new classifier."
   ]
  },
  {
   "cell_type": "code",
   "execution_count": 11,
   "metadata": {},
   "outputs": [
    {
     "name": "stdout",
     "output_type": "stream",
     "text": [
      "Random Forest model acuracy is  0.8927680798004988\n"
     ]
    }
   ],
   "source": [
    "from sklearn.ensemble import RandomForestClassifier\n",
    "\n",
    "# Create Random Forest classifier\n",
    "random_forest_classifier = RandomForestClassifier()\n",
    "\n",
    "# Train the classifier on the training set\n",
    "random_forest_classifier.fit(training_inputs, training_classes)\n",
    "\n",
    "# Validate the classifier on the testing set using classification accuracy\n",
    "accuracy = random_forest_classifier.score(testing_inputs, testing_classes)\n",
    "print('Random Forest model acuracy is ',accuracy)"
   ]
  },
  {
   "cell_type": "code",
   "execution_count": 12,
   "metadata": {},
   "outputs": [
    {
     "name": "stdout",
     "output_type": "stream",
     "text": [
      "Random Forest model evaluations are: \n",
      "              precision    recall  f1-score   support\n",
      "\n",
      "        HIGH       0.90      0.88      0.89        43\n",
      "         LOW       0.89      1.00      0.94       290\n",
      "         MID       0.89      0.46      0.60        68\n",
      "\n",
      "   micro avg       0.89      0.89      0.89       401\n",
      "   macro avg       0.89      0.78      0.81       401\n",
      "weighted avg       0.89      0.89      0.88       401\n",
      "\n",
      "Confusion matrix, without normalization\n",
      "[[289   1   0]\n",
      " [ 33  31   4]\n",
      " [  2   3  38]]\n"
     ]
    },
    {
     "data": {
      "image/png": "[encoded data removed]",
      "text/plain": [
       "<Figure size 432x288 with 2 Axes>"
      ]
     },
     "metadata": {
      "needs_background": "light"
     },
     "output_type": "display_data"
    }
   ],
   "source": [
    "# Compute the evaluation matrix\n",
    "print('Random Forest model evaluations are: ')\n",
    "testing_pred = random_forest_classifier.predict(testing_inputs)\n",
    "print(classification_report(testing_classes, testing_pred))\n",
    "cnf_matrix = confusion_matrix(testing_classes, testing_pred, labels=[\"LOW\", \"MID\", \"HIGH\"]);\n",
    "plt.figure()\n",
    "plot_confusion_matrix(cnf_matrix, classes=[\"LOW\", \"MID\", \"HIGH\"],\n",
    "                      title='Confusion matrix, without normalization')"
   ]
  },
  {
   "cell_type": "markdown",
   "metadata": {},
   "source": [
    "### kNN\n",
    "\n",
    "One of the simplest model, and similar to how many of us learn, is k Nearest Neighbors. It simply makes a prediction of the future example based on the majority of the neighbors. For example, for a new customer, if k = 5, and 3 out of 5 nearest neighbors of the new customer is labeled as HIGH, then the new customer is considered as HIGH. The only catch is that we need to set the parameter k, and how to determine the nearest neighbors. kNN is not one of the top performers. However, it is simple enough to keep it in the comparison pool. And in some cases, it is quite good."
   ]
  },
  {
   "cell_type": "code",
   "execution_count": 13,
   "metadata": {},
   "outputs": [
    {
     "name": "stdout",
     "output_type": "stream",
     "text": [
      "kNN model acuracy is  0.7082294264339152\n"
     ]
    }
   ],
   "source": [
    "from sklearn.neighbors import KNeighborsClassifier\n",
    "\n",
    "# Create kNN classifier\n",
    "kNN_classifier = KNeighborsClassifier()\n",
    "\n",
    "# Train the classifier on the training set\n",
    "kNN_classifier.fit(training_inputs, training_classes)\n",
    "\n",
    "# Validate the classifier on the testing set using classification accuracy\n",
    "accuracy = kNN_classifier.score(testing_inputs, testing_classes)\n",
    "print('kNN model acuracy is ',accuracy)"
   ]
  },
  {
   "cell_type": "code",
   "execution_count": 14,
   "metadata": {},
   "outputs": [
    {
     "name": "stdout",
     "output_type": "stream",
     "text": [
      "kNN model evaluations are: \n",
      "              precision    recall  f1-score   support\n",
      "\n",
      "        HIGH       0.25      0.12      0.16        43\n",
      "         LOW       0.74      0.95      0.83       290\n",
      "         MID       0.40      0.06      0.10        68\n",
      "\n",
      "   micro avg       0.71      0.71      0.71       401\n",
      "   macro avg       0.46      0.37      0.36       401\n",
      "weighted avg       0.63      0.71      0.64       401\n",
      "\n",
      "Confusion matrix, without normalization\n",
      "[[275   5  10]\n",
      " [ 59   4   5]\n",
      " [ 37   1   5]]\n"
     ]
    },
    {
     "data": {
      "image/png": "[encoded data removed]",
      "text/plain": [
       "<Figure size 432x288 with 2 Axes>"
      ]
     },
     "metadata": {
      "needs_background": "light"
     },
     "output_type": "display_data"
    }
   ],
   "source": [
    "# Compute the evaluation matrix\n",
    "print('kNN model evaluations are: ')\n",
    "testing_pred = kNN_classifier.predict(testing_inputs)\n",
    "print(classification_report(testing_classes, testing_pred))\n",
    "cnf_matrix = confusion_matrix(testing_classes, testing_pred, labels=[\"LOW\", \"MID\", \"HIGH\"]);\n",
    "plt.figure()\n",
    "plot_confusion_matrix(cnf_matrix, classes=[\"LOW\", \"MID\", \"HIGH\"],\n",
    "                      title='Confusion matrix, without normalization')"
   ]
  },
  {
   "cell_type": "markdown",
   "metadata": {},
   "source": [
    "### SVM\n",
    "\n",
    "SVM, or Support Vector Machine, is one of the supervised learning methods. It is good at finding the boundary to separate multiple classes in high dimensional space. However, in its basic form, it can only handle the class with two values (binary classification). To make it a multi-class classification (like our problem), we can also deploy its implementation in one of the sklearn library. We will first solve our multiclass classification problem, and then show how SVM can solve binary classification problem in the next section. Let's see how well it performs."
   ]
  },
  {
   "cell_type": "code",
   "execution_count": 15,
   "metadata": {},
   "outputs": [
    {
     "name": "stdout",
     "output_type": "stream",
     "text": [
      "SVM model acuracy without converging is  0.8453865336658354\n"
     ]
    }
   ],
   "source": [
    "from sklearn import svm\n",
    "\n",
    "# Create SVM classifier \n",
    "lin_svm_classifier = svm.LinearSVC()\n",
    "\n",
    "# Train the classifier on the training set\n",
    "lin_svm_classifier.fit(training_inputs, training_classes) \n",
    "\n",
    "# Validate the classifier on the testing set using classification accuracy\n",
    "accuracy = lin_svm_classifier.score(testing_inputs, testing_classes)\n",
    "print('SVM model acuracy without converging is ',accuracy)"
   ]
  },
  {
   "cell_type": "code",
   "execution_count": 16,
   "metadata": {},
   "outputs": [
    {
     "name": "stdout",
     "output_type": "stream",
     "text": [
      "SVM model acuracy is  0.8678304239401496\n"
     ]
    }
   ],
   "source": [
    "# Notice that the default numbers of iteration is 1000 and it did not converge. Let's try to increase it.\n",
    "lin_svm_classifier = svm.LinearSVC(max_iter=200000)\n",
    "lin_svm_classifier.fit(training_inputs, training_classes) \n",
    "accuracy = lin_svm_classifier.score(testing_inputs, testing_classes)\n",
    "print('SVM model acuracy is ',accuracy)"
   ]
  },
  {
   "cell_type": "code",
   "execution_count": 17,
   "metadata": {},
   "outputs": [
    {
     "name": "stdout",
     "output_type": "stream",
     "text": [
      "SVM model evaluations are: \n",
      "              precision    recall  f1-score   support\n",
      "\n",
      "        HIGH       0.78      0.91      0.84        43\n",
      "         LOW       0.88      0.99      0.94       290\n",
      "         MID       0.84      0.31      0.45        68\n",
      "\n",
      "   micro avg       0.87      0.87      0.87       401\n",
      "   macro avg       0.83      0.74      0.74       401\n",
      "weighted avg       0.86      0.87      0.84       401\n",
      "\n",
      "Confusion matrix, without normalization\n",
      "[[288   2   0]\n",
      " [ 36  21  11]\n",
      " [  2   2  39]]\n"
     ]
    },
    {
     "data": {
      "image/png": "[encoded data removed]",
      "text/plain": [
       "<Figure size 432x288 with 2 Axes>"
      ]
     },
     "metadata": {
      "needs_background": "light"
     },
     "output_type": "display_data"
    }
   ],
   "source": [
    "# Now that it converges. Let's continue the evaluation\n",
    "print('SVM model evaluations are: ')\n",
    "testing_pred = lin_svm_classifier.predict(testing_inputs)\n",
    "print(classification_report(testing_classes, testing_pred))\n",
    "cnf_matrix = confusion_matrix(testing_classes, testing_pred, labels=[\"LOW\", \"MID\", \"HIGH\"]);\n",
    "plt.figure()\n",
    "plot_confusion_matrix(cnf_matrix, classes=[\"LOW\", \"MID\", \"HIGH\"],\n",
    "                      title='Confusion matrix, without normalization')"
   ]
  },
  {
   "cell_type": "markdown",
   "metadata": {},
   "source": [
    "### Naive Bayes\n",
    "\n",
    "Naive Bayes is a probabilistic based model. It uses probability theory to create the model based on the training data. It does not always perform well in general. However, like kNN, it can be very good in certain cases. Note that we are able to use GaussianNB, because we encoded the categorical data. "
   ]
  },
  {
   "cell_type": "code",
   "execution_count": 18,
   "metadata": {},
   "outputs": [
    {
     "name": "stdout",
     "output_type": "stream",
     "text": [
      "NB model acuracy without converging is  0.8753117206982544\n"
     ]
    }
   ],
   "source": [
    "from sklearn.naive_bayes import GaussianNB\n",
    "\n",
    "# Create SVM classifier \n",
    "nb_classifier = GaussianNB()\n",
    "\n",
    "# Train the classifier on the training set\n",
    "nb_classifier.fit(training_inputs, training_classes) \n",
    "\n",
    "# Validate the classifier on the testing set using classification accuracy\n",
    "accuracy = nb_classifier.score(testing_inputs, testing_classes)\n",
    "print('NB model acuracy without converging is ',accuracy)"
   ]
  },
  {
   "cell_type": "code",
   "execution_count": 19,
   "metadata": {},
   "outputs": [
    {
     "name": "stdout",
     "output_type": "stream",
     "text": [
      "NB model evaluations are: \n",
      "              precision    recall  f1-score   support\n",
      "\n",
      "        HIGH       0.83      0.91      0.87        43\n",
      "         LOW       0.88      0.99      0.94       290\n",
      "         MID       0.86      0.35      0.50        68\n",
      "\n",
      "   micro avg       0.88      0.88      0.88       401\n",
      "   macro avg       0.86      0.75      0.77       401\n",
      "weighted avg       0.87      0.88      0.85       401\n",
      "\n",
      "Confusion matrix, without normalization\n",
      "[[288   2   0]\n",
      " [ 36  24   8]\n",
      " [  2   2  39]]\n"
     ]
    },
    {
     "data": {
      "image/png": "[encoded data removed]",
      "text/plain": [
       "<Figure size 432x288 with 2 Axes>"
      ]
     },
     "metadata": {
      "needs_background": "light"
     },
     "output_type": "display_data"
    }
   ],
   "source": [
    "# Now that it converges. Let's continue the evaluation\n",
    "print('NB model evaluations are: ')\n",
    "testing_pred = nb_classifier.predict(testing_inputs)\n",
    "print(classification_report(testing_classes, testing_pred))\n",
    "cnf_matrix = confusion_matrix(testing_classes, testing_pred, labels=[\"LOW\", \"MID\", \"HIGH\"]);\n",
    "plt.figure()\n",
    "plot_confusion_matrix(cnf_matrix, classes=[\"LOW\", \"MID\", \"HIGH\"],\n",
    "                      title='Confusion matrix, without normalization')"
   ]
  },
  {
   "cell_type": "markdown",
   "metadata": {},
   "source": [
    "### Binary classification\n",
    "\n",
    "In most problem, we only need to identify a type A or B answer. We will demonstrate the binary classification task by reducing the data into two classes, LOW and HIGH. Note that, MID will be merged with LOW. And prepare the training/testing datasets."
   ]
  },
  {
   "cell_type": "code",
   "execution_count": 20,
   "metadata": {},
   "outputs": [],
   "source": [
    "insurance_binary = insurance_classification\n",
    "insurance_binary.loc[insurance_binary[\"risk_level\"] == \"MID\", \"risk_level\"] = \"LOW\"\n",
    "\n",
    "# check that we have only two class\n",
    "assert len(insurance_binary['risk_level'].unique()) == 2\n",
    "\n",
    "all_bin_inputs = insurance_binary[['age', 'bmi', 'children', 'sex_code', 'smoker_code', 'region_code']]\n",
    "# Similarly, we can extract the class labels\n",
    "all_bin_labels = insurance_binary['risk_level']\n",
    "\n",
    "# Let us have a 30% holdout data for testing\n",
    "(training_bin_inputs, testing_bin_inputs, training_bin_classes, testing_bin_classes) = train_test_split(all_bin_inputs, all_bin_labels, test_size=0.3)\n"
   ]
  },
  {
   "cell_type": "markdown",
   "metadata": {},
   "source": [
    "Let us see how the classifiers above perform in this setting. "
   ]
  },
  {
   "cell_type": "code",
   "execution_count": 21,
   "metadata": {},
   "outputs": [
    {
     "name": "stdout",
     "output_type": "stream",
     "text": [
      "Decision Tree evaluation scores are: \n",
      "Accuracy:  0.9775561097256857\n",
      "              precision    recall  f1-score   support\n",
      "\n",
      "        HIGH       0.90      0.92      0.91        49\n",
      "         LOW       0.99      0.99      0.99       352\n",
      "\n",
      "   micro avg       0.98      0.98      0.98       401\n",
      "   macro avg       0.94      0.95      0.95       401\n",
      "weighted avg       0.98      0.98      0.98       401\n",
      "\n"
     ]
    }
   ],
   "source": [
    "#Decision Tree\n",
    "decision_tree_classifier = DecisionTreeClassifier()\n",
    "decision_tree_classifier.fit(training_bin_inputs, training_bin_classes)\n",
    "accuracy = decision_tree_classifier.score(testing_bin_inputs, testing_bin_classes)\n",
    "# Validate the classifier on the testing set using classification accuracy\n",
    "print('Decision Tree evaluation scores are: ')\n",
    "print('Accuracy: ',accuracy)\n",
    "testing_bin_pred = decision_tree_classifier.predict(testing_bin_inputs)\n",
    "print(classification_report(testing_bin_classes, testing_bin_pred))"
   ]
  },
  {
   "cell_type": "code",
   "execution_count": 22,
   "metadata": {},
   "outputs": [
    {
     "name": "stdout",
     "output_type": "stream",
     "text": [
      "Random Forest evaluation scores are: \n",
      "Accuracy:  0.9850374064837906\n",
      "              precision    recall  f1-score   support\n",
      "\n",
      "        HIGH       1.00      0.88      0.93        49\n",
      "         LOW       0.98      1.00      0.99       352\n",
      "\n",
      "   micro avg       0.99      0.99      0.99       401\n",
      "   macro avg       0.99      0.94      0.96       401\n",
      "weighted avg       0.99      0.99      0.98       401\n",
      "\n"
     ]
    }
   ],
   "source": [
    "#Random Forest\n",
    "random_forest_classifier = RandomForestClassifier()\n",
    "random_forest_classifier.fit(training_bin_inputs, training_bin_classes)\n",
    "accuracy = random_forest_classifier.score(testing_bin_inputs, testing_bin_classes)\n",
    "# Validate the classifier on the testing set using classification accuracy\n",
    "print('Random Forest evaluation scores are: ')\n",
    "print('Accuracy: ',accuracy)\n",
    "testing_bin_pred = random_forest_classifier.predict(testing_bin_inputs)\n",
    "print(classification_report(testing_bin_classes, testing_bin_pred))"
   ]
  },
  {
   "cell_type": "code",
   "execution_count": 23,
   "metadata": {},
   "outputs": [
    {
     "name": "stdout",
     "output_type": "stream",
     "text": [
      "kNN evaluation scores are: \n",
      "Accuracy  0.8802992518703242\n",
      "              precision    recall  f1-score   support\n",
      "\n",
      "        HIGH       0.60      0.06      0.11        49\n",
      "         LOW       0.88      0.99      0.94       352\n",
      "\n",
      "   micro avg       0.88      0.88      0.88       401\n",
      "   macro avg       0.74      0.53      0.52       401\n",
      "weighted avg       0.85      0.88      0.84       401\n",
      "\n"
     ]
    }
   ],
   "source": [
    "#kNN\n",
    "kNN_classifier = KNeighborsClassifier()\n",
    "kNN_classifier.fit(training_bin_inputs, training_bin_classes)\n",
    "accuracy = kNN_classifier.score(testing_bin_inputs, testing_bin_classes)\n",
    "print('kNN evaluation scores are: ')\n",
    "print('Accuracy ',accuracy)\n",
    "testing_bin_pred = kNN_classifier.predict(testing_bin_inputs)\n",
    "print(classification_report(testing_bin_classes, testing_bin_pred))"
   ]
  },
  {
   "cell_type": "code",
   "execution_count": 24,
   "metadata": {},
   "outputs": [
    {
     "name": "stdout",
     "output_type": "stream",
     "text": [
      "SVM evaluation scores are: \n",
      "Accuracy  0.9750623441396509\n",
      "              precision    recall  f1-score   support\n",
      "\n",
      "        HIGH       0.91      0.88      0.90        49\n",
      "         LOW       0.98      0.99      0.99       352\n",
      "\n",
      "   micro avg       0.98      0.98      0.98       401\n",
      "   macro avg       0.95      0.93      0.94       401\n",
      "weighted avg       0.97      0.98      0.97       401\n",
      "\n"
     ]
    }
   ],
   "source": [
    "#SVM \n",
    "lin_svm_classifier = svm.LinearSVC(max_iter=200000)\n",
    "lin_svm_classifier.fit(training_bin_inputs, training_bin_classes)\n",
    "accuracy = lin_svm_classifier.score(testing_bin_inputs, testing_bin_classes)\n",
    "print('SVM evaluation scores are: ')\n",
    "print('Accuracy ',accuracy)\n",
    "testing_bin_pred = lin_svm_classifier.predict(testing_bin_inputs)\n",
    "print(classification_report(testing_bin_classes, testing_bin_pred))"
   ]
  },
  {
   "cell_type": "code",
   "execution_count": 25,
   "metadata": {},
   "outputs": [
    {
     "name": "stdout",
     "output_type": "stream",
     "text": [
      "NB evaluation scores are: \n",
      "Accuracy  0.9052369077306733\n",
      "              precision    recall  f1-score   support\n",
      "\n",
      "        HIGH       0.57      0.94      0.71        49\n",
      "         LOW       0.99      0.90      0.94       352\n",
      "\n",
      "   micro avg       0.91      0.91      0.91       401\n",
      "   macro avg       0.78      0.92      0.83       401\n",
      "weighted avg       0.94      0.91      0.91       401\n",
      "\n"
     ]
    }
   ],
   "source": [
    "#Naive Bayes\n",
    "nb_classifier = GaussianNB()\n",
    "nb_classifier.fit(training_bin_inputs, training_bin_classes) \n",
    "accuracy = nb_classifier.score(testing_bin_inputs, testing_bin_classes)\n",
    "print('NB evaluation scores are: ')\n",
    "print('Accuracy ',accuracy)\n",
    "testing_bin_pred = nb_classifier.predict(testing_bin_inputs)\n",
    "print(classification_report(testing_bin_classes, testing_bin_pred))"
   ]
  },
  {
   "cell_type": "markdown",
   "metadata": {},
   "source": [
    "## Step 5: Regression\n",
    "\n",
    "In Machine Learning, Regression Analysis is used to predict a certain value of the target features. For our case, we are trying to predict the charges of a given customer. Also, we need a new way to evaluate the regression models. Two of the common metrics are mean squared error, and the coefficient of determination (R^2 score)"
   ]
  },
  {
   "cell_type": "code",
   "execution_count": 26,
   "metadata": {},
   "outputs": [],
   "source": [
    "from sklearn.metrics import mean_squared_error, r2_score\n",
    "\n",
    "# We can extract the data in this format from pandas like this:\n",
    "all_inputs = insurance_regression[['age', 'bmi', 'children', 'sex_code', 'smoker_code', 'region_code']]\n",
    "# Similarly, we can extract the class labels\n",
    "all_outputs = insurance_regression['charges']\n",
    "\n",
    "# Let us have a 30% holdout data for testing\n",
    "(training_inputs, testing_inputs, training_outputs, testing_outputs) = train_test_split(all_inputs, all_outputs, test_size=0.3)"
   ]
  },
  {
   "cell_type": "markdown",
   "metadata": {},
   "source": [
    "Now we will try a few regression models in SK-learn\n",
    "\n",
    "### Regression Tree"
   ]
  },
  {
   "cell_type": "code",
   "execution_count": 27,
   "metadata": {},
   "outputs": [
    {
     "name": "stdout",
     "output_type": "stream",
     "text": [
      "Mean squared error: 43303458.74\n",
      "Variance score: 0.69\n"
     ]
    }
   ],
   "source": [
    "from sklearn.tree import DecisionTreeRegressor\n",
    "\n",
    "regression_tree = DecisionTreeRegressor()\n",
    "# Train the classifier on the training set\n",
    "regression_tree.fit(training_inputs, training_outputs)\n",
    "\n",
    "testing_pred = regression_tree.predict(testing_inputs)\n",
    "\n",
    "# The mean squared error\n",
    "print(\"Mean squared error: %.2f\"\n",
    "      % mean_squared_error(testing_outputs, testing_pred))\n",
    "# Explained variance score: 1 is perfect prediction\n",
    "print('Variance score: %.2f' % r2_score(testing_outputs, testing_pred))"
   ]
  },
  {
   "cell_type": "markdown",
   "metadata": {},
   "source": [
    "### Random Forest Regressor"
   ]
  },
  {
   "cell_type": "code",
   "execution_count": 28,
   "metadata": {},
   "outputs": [
    {
     "name": "stdout",
     "output_type": "stream",
     "text": [
      "Mean squared error: 26440941.87\n",
      "Variance score: 0.81\n"
     ]
    }
   ],
   "source": [
    "from sklearn.ensemble import RandomForestRegressor\n",
    "\n",
    "regression_forest = RandomForestRegressor()\n",
    "regression_forest.fit(training_inputs, training_outputs)\n",
    "\n",
    "testing_pred = regression_forest.predict(testing_inputs)\n",
    "\n",
    "# The mean squared error\n",
    "print(\"Mean squared error: %.2f\"\n",
    "      % mean_squared_error(testing_outputs, testing_pred))\n",
    "# Explained variance score: 1 is perfect prediction\n",
    "print('Variance score: %.2f' % r2_score(testing_outputs, testing_pred))"
   ]
  },
  {
   "cell_type": "markdown",
   "metadata": {},
   "source": [
    "### Linear Regression"
   ]
  },
  {
   "cell_type": "code",
   "execution_count": 29,
   "metadata": {},
   "outputs": [
    {
     "name": "stdout",
     "output_type": "stream",
     "text": [
      "Mean squared error: 34501522.18\n",
      "Variance score: 0.76\n"
     ]
    }
   ],
   "source": [
    "from sklearn.linear_model import LinearRegression\n",
    "\n",
    "linear_regression = LinearRegression()\n",
    "linear_regression.fit(training_inputs, training_outputs)\n",
    "\n",
    "testing_pred = linear_regression.predict(testing_inputs)\n",
    "\n",
    "# The mean squared error\n",
    "print(\"Mean squared error: %.2f\"\n",
    "      % mean_squared_error(testing_outputs, testing_pred))\n",
    "# Explained variance score: 1 is perfect prediction\n",
    "print('Variance score: %.2f' % r2_score(testing_outputs, testing_pred))"
   ]
  },
  {
   "cell_type": "markdown",
   "metadata": {},
   "source": [
    "### Neural Network\n",
    "\n",
    "Neural network is a once-again famous classifier because of the rise of deep learning. It is another classifier/regressor that you can try on your problem. "
   ]
  },
  {
   "cell_type": "code",
   "execution_count": 30,
   "metadata": {},
   "outputs": [
    {
     "name": "stdout",
     "output_type": "stream",
     "text": [
      "Mean squared error: 35169948.78\n",
      "Variance score: 0.75\n"
     ]
    }
   ],
   "source": [
    "from sklearn.neural_network import MLPRegressor\n",
    "nn_regression = MLPRegressor(max_iter=20000)\n",
    "nn_regression.fit(training_inputs, training_outputs)\n",
    "\n",
    "testing_pred = nn_regression.predict(testing_inputs)\n",
    "\n",
    "# The mean squared error\n",
    "print(\"Mean squared error: %.2f\"\n",
    "      % mean_squared_error(testing_outputs, testing_pred))\n",
    "# Explained variance score: 1 is perfect prediction\n",
    "print('Variance score: %.2f' % r2_score(testing_outputs, testing_pred))"
   ]
  },
  {
   "cell_type": "markdown",
   "metadata": {},
   "source": [
    "## Step 6: Methodologies\n",
    "\n",
    "Things that can help you improve your model's performance are the feature selection process, and the parameter tuning. And then, you need to be able to compare them to find the best model to report to your boss. We will illustrate these processes in the classification task. "
   ]
  },
  {
   "cell_type": "code",
   "execution_count": 31,
   "metadata": {},
   "outputs": [],
   "source": [
    "all_inputs = insurance_classification[['age', 'bmi', 'children', 'sex_code', 'smoker_code', 'region_code']]\n",
    "all_labels = insurance_classification['risk_level']\n",
    "# Let us have a 30% holdout data for testing for this part as well\n",
    "(training_inputs, testing_inputs, training_classes, testing_classes) = train_test_split(all_inputs, all_labels, test_size=0.3)"
   ]
  },
  {
   "cell_type": "markdown",
   "metadata": {},
   "source": [
    "### Feature Selection\n",
    "\n",
    "Feature selection is simply selecting the 'relevant' feature to the current task. For this session we will limit our examples to one classifier only. It can be extended to other classifier. There are three common ways to do feature selection: (i) removing feature with low variance, (ii) univariate feature selection, and (iii) feature selection based on model's 'performance'.\n",
    "\n",
    "For low variance feature selection, it is a baseline approach. It simply removes all features whose variance is lower than a given threshold. By default, sklearn removes all zero-variance features, i.e. features that have only one value. Most of the time, the value selected by expert will pass these test.\n",
    "\n",
    "For univariate feature selection, it selects the best features based on the univariate statistical tests. Then we can choose the feature which pass certain test in sk-learn, such as SelectKBest, and SelectPercentile.\n",
    "\n",
    "For the final method, we simply select the subset of features that will give the model's best performance. To find out the performance of each subset of features, we create a model using that given subset and test its performance."
   ]
  },
  {
   "cell_type": "code",
   "execution_count": 32,
   "metadata": {},
   "outputs": [
    {
     "name": "stdout",
     "output_type": "stream",
     "text": [
      "(934, 6)\n",
      "(934, 6)\n"
     ]
    }
   ],
   "source": [
    "# For low variance feature selection, we will set an example threshold to 80%\n",
    "from sklearn.feature_selection import VarianceThreshold\n",
    "sel = VarianceThreshold(threshold=(.8 * (1 - .8)))\n",
    "print(training_inputs.shape)\n",
    "name = []\n",
    "for i in training_inputs.columns:\n",
    "    name.append(i)\n",
    "training_vt = sel.fit_transform(training_inputs)\n",
    "print(training_vt.shape)"
   ]
  },
  {
   "cell_type": "code",
   "execution_count": 33,
   "metadata": {},
   "outputs": [
    {
     "name": "stdout",
     "output_type": "stream",
     "text": [
      "(934, 6)\n",
      "after transform:\n",
      "(934, 2)\n"
     ]
    },
    {
     "data": {
      "text/html": [
       "<div>\n",
       "<style scoped>\n",
       "    .dataframe tbody tr th:only-of-type {\n",
       "        vertical-align: middle;\n",
       "    }\n",
       "\n",
       "    .dataframe tbody tr th {\n",
       "        vertical-align: top;\n",
       "    }\n",
       "\n",
       "    .dataframe thead th {\n",
       "        text-align: right;\n",
       "    }\n",
       "</style>\n",
       "<table border=\"1\" class=\"dataframe\">\n",
       "  <thead>\n",
       "    <tr style=\"text-align: right;\">\n",
       "      <th></th>\n",
       "      <th>bmi</th>\n",
       "      <th>smoker_code</th>\n",
       "    </tr>\n",
       "  </thead>\n",
       "  <tbody>\n",
       "    <tr>\n",
       "      <th>0</th>\n",
       "      <td>30.115</td>\n",
       "      <td>0.0</td>\n",
       "    </tr>\n",
       "    <tr>\n",
       "      <th>1</th>\n",
       "      <td>29.700</td>\n",
       "      <td>0.0</td>\n",
       "    </tr>\n",
       "    <tr>\n",
       "      <th>2</th>\n",
       "      <td>27.940</td>\n",
       "      <td>1.0</td>\n",
       "    </tr>\n",
       "    <tr>\n",
       "      <th>3</th>\n",
       "      <td>22.880</td>\n",
       "      <td>1.0</td>\n",
       "    </tr>\n",
       "    <tr>\n",
       "      <th>4</th>\n",
       "      <td>31.680</td>\n",
       "      <td>1.0</td>\n",
       "    </tr>\n",
       "  </tbody>\n",
       "</table>\n",
       "</div>"
      ],
      "text/plain": [
       "      bmi  smoker_code\n",
       "0  30.115          0.0\n",
       "1  29.700          0.0\n",
       "2  27.940          1.0\n",
       "3  22.880          1.0\n",
       "4  31.680          1.0"
      ]
     },
     "execution_count": 33,
     "metadata": {},
     "output_type": "execute_result"
    }
   ],
   "source": [
    "# For Univariate feature selection we will use the chi square score with SelectKBest where k=2 as an example \n",
    "from sklearn.feature_selection import SelectKBest\n",
    "from sklearn.feature_selection import chi2\n",
    "print(training_inputs.shape)\n",
    "selector = SelectKBest(chi2, k=2)\n",
    "selector.fit(training_inputs,training_classes)\n",
    "selected_index = selector.get_support(True)\n",
    "print(\"after transform:\",) \n",
    "training_new_inputs = selector.transform(training_inputs)\n",
    "print(training_new_inputs.shape)\n",
    "name = []\n",
    "for i in training_inputs.columns:\n",
    "    name.append(i)\n",
    "training_new_df = pd.DataFrame(data=training_new_inputs,columns=[name[selected_index[0]], name[selected_index[1]]])\n",
    "training_new_df.head()"
   ]
  },
  {
   "cell_type": "code",
   "execution_count": 34,
   "metadata": {},
   "outputs": [
    {
     "name": "stdout",
     "output_type": "stream",
     "text": [
      "SVM model acuracy is  0.9850374064837906\n"
     ]
    }
   ],
   "source": [
    "#now we create a classifier with the newly transform data\n",
    "lin_svm_classifier = svm.LinearSVC(max_iter=200000)\n",
    "lin_svm_classifier.fit(training_new_df, training_classes) \n",
    "#then we must drop the testing data to have only the two columns\n",
    "testing_new_df = testing_inputs[[testing_inputs.columns[selected_index[0]],testing_inputs.columns[selected_index[1]]]]\n",
    "accuracy = lin_svm_classifier.score(testing_new_df, testing_classes)\n",
    "print('SVM model acuracy is ',accuracy)"
   ]
  },
  {
   "cell_type": "code",
   "execution_count": 35,
   "metadata": {},
   "outputs": [
    {
     "data": {
      "text/html": [
       "<div>\n",
       "<style scoped>\n",
       "    .dataframe tbody tr th:only-of-type {\n",
       "        vertical-align: middle;\n",
       "    }\n",
       "\n",
       "    .dataframe tbody tr th {\n",
       "        vertical-align: top;\n",
       "    }\n",
       "\n",
       "    .dataframe thead th {\n",
       "        text-align: right;\n",
       "    }\n",
       "</style>\n",
       "<table border=\"1\" class=\"dataframe\">\n",
       "  <thead>\n",
       "    <tr style=\"text-align: right;\">\n",
       "      <th></th>\n",
       "      <th>age</th>\n",
       "      <th>bmi</th>\n",
       "      <th>children</th>\n",
       "      <th>sex_code</th>\n",
       "      <th>smoker_code</th>\n",
       "      <th>region_code</th>\n",
       "    </tr>\n",
       "  </thead>\n",
       "  <tbody>\n",
       "    <tr>\n",
       "      <th>0</th>\n",
       "      <td>64.0</td>\n",
       "      <td>30.115</td>\n",
       "      <td>3.0</td>\n",
       "      <td>0.0</td>\n",
       "      <td>0.0</td>\n",
       "      <td>1.0</td>\n",
       "    </tr>\n",
       "    <tr>\n",
       "      <th>1</th>\n",
       "      <td>55.0</td>\n",
       "      <td>29.700</td>\n",
       "      <td>2.0</td>\n",
       "      <td>0.0</td>\n",
       "      <td>0.0</td>\n",
       "      <td>0.0</td>\n",
       "    </tr>\n",
       "    <tr>\n",
       "      <th>2</th>\n",
       "      <td>29.0</td>\n",
       "      <td>27.940</td>\n",
       "      <td>1.0</td>\n",
       "      <td>0.0</td>\n",
       "      <td>1.0</td>\n",
       "      <td>3.0</td>\n",
       "    </tr>\n",
       "    <tr>\n",
       "      <th>3</th>\n",
       "      <td>53.0</td>\n",
       "      <td>22.880</td>\n",
       "      <td>1.0</td>\n",
       "      <td>0.0</td>\n",
       "      <td>1.0</td>\n",
       "      <td>3.0</td>\n",
       "    </tr>\n",
       "    <tr>\n",
       "      <th>4</th>\n",
       "      <td>18.0</td>\n",
       "      <td>31.680</td>\n",
       "      <td>2.0</td>\n",
       "      <td>1.0</td>\n",
       "      <td>1.0</td>\n",
       "      <td>3.0</td>\n",
       "    </tr>\n",
       "  </tbody>\n",
       "</table>\n",
       "</div>"
      ],
      "text/plain": [
       "    age     bmi  children  sex_code  smoker_code  region_code\n",
       "0  64.0  30.115       3.0       0.0          0.0          1.0\n",
       "1  55.0  29.700       2.0       0.0          0.0          0.0\n",
       "2  29.0  27.940       1.0       0.0          1.0          3.0\n",
       "3  53.0  22.880       1.0       0.0          1.0          3.0\n",
       "4  18.0  31.680       2.0       1.0          1.0          3.0"
      ]
     },
     "execution_count": 35,
     "metadata": {},
     "output_type": "execute_result"
    }
   ],
   "source": [
    "#Next we select the feature by recursively eliminate the feature out of the original set\n",
    "from sklearn.model_selection import StratifiedKFold\n",
    "from sklearn.feature_selection import RFECV\n",
    "\n",
    "#Build a classification task using 2 informative features\n",
    "rfc = RandomForestClassifier()\n",
    "rfecv = RFECV(estimator=rfc, step=1, cv=5,scoring='accuracy') \n",
    "rfecv.fit(training_inputs, training_classes)\n",
    "training_rfecv_inputs = rfecv.transform(training_inputs)\n",
    "training_rfecv_df = pd.DataFrame(data=training_rfecv_inputs,columns=training_inputs.columns[rfecv.support_])\n",
    "training_rfecv_df.head()"
   ]
  },
  {
   "cell_type": "markdown",
   "metadata": {},
   "source": [
    "Next we try out if the newly reduced dataset improve our performance"
   ]
  },
  {
   "cell_type": "code",
   "execution_count": 36,
   "metadata": {},
   "outputs": [
    {
     "name": "stdout",
     "output_type": "stream",
     "text": [
      "Random Forest model with Feature Selection acuracy is  0.970074812967581\n"
     ]
    }
   ],
   "source": [
    "rfc = RandomForestClassifier()\n",
    "rfc.fit(training_rfecv_df, training_classes)\n",
    "test_rfecv_df = pd.DataFrame(data=testing_inputs,columns=training_inputs.columns[rfecv.support_])\n",
    "accuracy = rfc.score(test_rfecv_df, testing_classes)\n",
    "print('Random Forest model with Feature Selection acuracy is ',accuracy)"
   ]
  },
  {
   "cell_type": "markdown",
   "metadata": {},
   "source": [
    "### Parameter Tuning\n",
    "\n",
    "As shown from yesterday, we can use grid search for parameter tuning."
   ]
  },
  {
   "cell_type": "code",
   "execution_count": 37,
   "metadata": {},
   "outputs": [
    {
     "name": "stdout",
     "output_type": "stream",
     "text": [
      "Best score: 0.987152034261242\n",
      "Best parameters: {'criterion': 'entropy', 'max_depth': 3, 'max_features': 4, 'splitter': 'best'}\n",
      "Decision Tree with best parameters has the accuracy: 0.940149625935162\n"
     ]
    }
   ],
   "source": [
    "from sklearn.model_selection import GridSearchCV\n",
    "from sklearn.model_selection import StratifiedKFold\n",
    "\n",
    "decision_tree_classifier = DecisionTreeClassifier()\n",
    "\n",
    "parameter_grid = {'criterion': ['gini', 'entropy'],\n",
    "                  'splitter': ['best', 'random'],\n",
    "                  'max_depth': [1, 2, 3, 4, 5],\n",
    "                  'max_features': [1, 2, 3, 4]}\n",
    "\n",
    "cross_validation = StratifiedKFold(n_splits=10)\n",
    "\n",
    "grid_search = GridSearchCV(decision_tree_classifier,\n",
    "                           param_grid=parameter_grid,\n",
    "                           cv=cross_validation)\n",
    "\n",
    "grid_search.fit(training_inputs, training_classes)\n",
    "print('Best score: {}'.format(grid_search.best_score_))\n",
    "print('Best parameters: {}'.format(grid_search.best_params_))\n",
    "decision_tree_classifier = grid_search.best_estimator_\n",
    "decision_tree_classifier.fit(training_inputs, training_classes)\n",
    "\n",
    "#testing using our holdout data\n",
    "accuracy = decision_tree_classifier.score(testing_inputs, testing_classes)\n",
    "print('Decision Tree with best parameters has the accuracy: {}'.format(accuracy))"
   ]
  },
  {
   "cell_type": "markdown",
   "metadata": {},
   "source": [
    "### Models Comparison\n",
    "\n",
    "To compare multiple models, we must use the same set of data to train and to test the models. Note that, previously we use the train/tune/test datasets in the supervised learning task. To avoid seeing the testing data, we select the best features and parameters using the train/tune datasets. In general, the accuracy of the test set can tell you a fair estimate of how well the classifiers are doing against one another. But, it still falls within the random chance of which data falls into the test dataset. For a rigurous comparison, the traditional  methodology is to use KFold cross validation. ***This is not the cross validation, cv() function, you have seen before*** For KFold, the data points in each fold are fixed. As such, we can compare the models using the same dataset."
   ]
  },
  {
   "cell_type": "code",
   "execution_count": 38,
   "metadata": {},
   "outputs": [
    {
     "name": "stdout",
     "output_type": "stream",
     "text": [
      "KNN: 0.880171 (0.022302)\n",
      "CART: 0.972321 (0.012013)\n",
      "NB: 0.920581 (0.022095)\n"
     ]
    },
    {
     "data": {
      "image/png": "[encoded data removed]",
      "text/plain": [
       "<Figure size 432x288 with 1 Axes>"
      ]
     },
     "metadata": {
      "needs_background": "light"
     },
     "output_type": "display_data"
    }
   ],
   "source": [
    "from sklearn import model_selection\n",
    "\n",
    "models = []\n",
    "models.append(('KNN', KNeighborsClassifier()))\n",
    "models.append(('CART', DecisionTreeClassifier()))\n",
    "models.append(('NB', GaussianNB()))\n",
    "results = []\n",
    "names = []\n",
    "scoring = 'accuracy'\n",
    "kfold = model_selection.KFold(n_splits=10, random_state=7)\n",
    "\n",
    "for name, model in models:\n",
    "    cv_results = model_selection.cross_val_score(model, all_inputs, all_labels, cv=kfold, scoring=scoring)\n",
    "    results.append(cv_results)\n",
    "    names.append(name)\n",
    "    msg = \"%s: %f (%f)\" % (name, cv_results.mean(), cv_results.std())\n",
    "    print(msg)\n",
    "# boxplot algorithm comparison\n",
    "fig = plt.figure()\n",
    "fig.suptitle('Algorithm Comparison')\n",
    "ax = fig.add_subplot(111)\n",
    "plt.boxplot(results)\n",
    "ax.set_xticklabels(names)\n",
    "plt.show()"
   ]
  },
  {
   "cell_type": "code",
   "execution_count": 1,
   "metadata": {},
   "outputs": [
    {
     "name": "stdout",
     "output_type": "stream",
     "text": [
      "Thu Nov 22 2018 \n",
      "\n",
      "CPython 3.7.1\n",
      "IPython 7.1.1\n",
      "\n",
      "numpy 1.15.4\n",
      "pandas 0.23.4\n",
      "sklearn 0.20.0\n",
      "matplotlib 3.0.2\n",
      "seaborn 0.9.0\n",
      "itertools unknown\n",
      "\n",
      "compiler   : Clang 6.0 (clang-600.0.57)\n",
      "system     : Darwin\n",
      "release    : 18.2.0\n",
      "machine    : x86_64\n",
      "processor  : i386\n",
      "CPU cores  : 4\n",
      "interpreter: 64bit\n"
     ]
    }
   ],
   "source": [
    "%load_ext watermark\n",
    "%watermark -nmv --packages numpy,pandas,sklearn,matplotlib,seaborn,itertools"
   ]
  }
 ],
 "metadata": {
  "kernelspec": {
   "display_name": "Python 3",
   "language": "python",
   "name": "python3"
  },
  "language_info": {
   "codemirror_mode": {
    "name": "ipython",
    "version": 3
   },
   "file_extension": ".py",
   "mimetype": "text/x-python",
   "name": "python",
   "nbconvert_exporter": "python",
   "pygments_lexer": "ipython3",
   "version": "3.7.1"
  }
 },
 "nbformat": 4,
 "nbformat_minor": 1
}
