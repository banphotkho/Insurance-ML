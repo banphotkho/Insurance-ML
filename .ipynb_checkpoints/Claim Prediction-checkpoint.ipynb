{
 "cells": [
  {
   "cell_type": "code",
   "execution_count": 4,
   "metadata": {},
   "outputs": [],
   "source": [
    "import pandas as pd\n",
    "import numpy as np\n",
    "import seaborn as sns\n",
    "import matplotlib.pyplot as plt\n",
    "% matplotlib inline\n",
    " \n",
    "from sklearn.linear_model import LogisticRegression\n",
    "from sklearn.externals import joblib"
   ]
  },
  {
   "cell_type": "markdown",
   "metadata": {},
   "source": [
    "Now we will import pandas to read our data from a CSV file and manipulate it for further use. We will also use numpy to convert out data into a format suitable to feed our classification model. We'll use seaborn and matplotlib for visualizations. We will then import Logistic Regression algorithm from sklearn. This algorithm will help us build our classification model. Lastly, we will use joblib available in sklearn to save our model for future use."
   ]
  },
  {
   "cell_type": "code",
   "execution_count": 42,
   "metadata": {},
   "outputs": [
    {
     "name": "stdout",
     "output_type": "stream",
     "text": [
      "   age  sex     bmi  children  smoker  region      charges  insuranceclaim\n",
      "0   19    0  27.900         0       1       3  16884.92400               1\n",
      "1   18    1  33.770         1       0       2   1725.55230               1\n",
      "2   28    1  33.000         3       0       2   4449.46200               0\n",
      "3   33    1  22.705         0       0       1  21984.47061               0\n",
      "4   32    1  28.880         0       0       1   3866.85520               1\n"
     ]
    }
   ],
   "source": [
    "insuranceDF = pd.read_csv('insurance2.csv')\n",
    "print(insuranceDF.head())"
   ]
  },
  {
   "cell_type": "markdown",
   "metadata": {},
   "source": [
    "The following features have been provided to help us predict whether a person is diabetic or not:\n",
    "\n",
    "age : age of policyholder sex: gender of policy holder (female=0, male=1) bmi: Body mass index, providing an understanding of body, weights that are relatively high or low relative to height, objective index of body weight (kg / m ^ 2) using the ratio of height to weight, ideally 18.5 to 25 steps: average number of walking steps per day children: number of children / dependents of policyholder smoker: smoking state of policyholder (non-smoke=0;smoker=1) region: the residential area of policyholder in the US (northeast=0, northwest=1, southeast=2, southwest=3) charges: individual medical costs billed by health insurance\n",
    "\n",
    "Let's also make sure that our data is clean (has no null values, etc)."
   ]
  },
  {
   "cell_type": "code",
   "execution_count": 43,
   "metadata": {},
   "outputs": [
    {
     "name": "stdout",
     "output_type": "stream",
     "text": [
      "<class 'pandas.core.frame.DataFrame'>\n",
      "RangeIndex: 1338 entries, 0 to 1337\n",
      "Data columns (total 8 columns):\n",
      "age               1338 non-null int64\n",
      "sex               1338 non-null int64\n",
      "bmi               1338 non-null float64\n",
      "children          1338 non-null int64\n",
      "smoker            1338 non-null int64\n",
      "region            1338 non-null int64\n",
      "charges           1338 non-null float64\n",
      "insuranceclaim    1338 non-null int64\n",
      "dtypes: float64(2), int64(6)\n",
      "memory usage: 83.7 KB\n"
     ]
    }
   ],
   "source": [
    "insuranceDF.info()"
   ]
  },
  {
   "cell_type": "code",
   "execution_count": 13,
   "metadata": {},
   "outputs": [
    {
     "name": "stdout",
     "output_type": "stream",
     "text": [
      "                     age       sex       bmi  children    smoker    region  \\\n",
      "age             1.000000 -0.020856  0.109272  0.042469 -0.025019  0.002127   \n",
      "sex            -0.020856  1.000000  0.046371  0.017163  0.076185  0.004588   \n",
      "bmi             0.109272  0.046371  1.000000  0.012759  0.003750  0.157566   \n",
      "children        0.042469  0.017163  0.012759  1.000000  0.007673  0.016569   \n",
      "smoker         -0.025019  0.076185  0.003750  0.007673  1.000000 -0.002181   \n",
      "region          0.002127  0.004588  0.157566  0.016569 -0.002181  1.000000   \n",
      "charges         0.299008  0.057292  0.198341  0.067998  0.787251 -0.006208   \n",
      "insuranceclaim  0.113723  0.031565  0.384198 -0.409526  0.333261  0.020891   \n",
      "\n",
      "                 charges  insuranceclaim  \n",
      "age             0.299008        0.113723  \n",
      "sex             0.057292        0.031565  \n",
      "bmi             0.198341        0.384198  \n",
      "children        0.067998       -0.409526  \n",
      "smoker          0.787251        0.333261  \n",
      "region         -0.006208        0.020891  \n",
      "charges         1.000000        0.309418  \n",
      "insuranceclaim  0.309418        1.000000  \n"
     ]
    },
    {
     "data": {
      "text/plain": [
       "<matplotlib.axes._subplots.AxesSubplot at 0x7fa9b1abe3d0>"
      ]
     },
     "execution_count": 13,
     "metadata": {},
     "output_type": "execute_result"
    },
    {
     "data": {
      "image/png": "[encoded data removed]",
      "text/plain": [
       "<Figure size 432x288 with 2 Axes>"
      ]
     },
     "metadata": {
      "needs_background": "light"
     },
     "output_type": "display_data"
    }
   ],
   "source": [
    "corr = insuranceDF.corr()\n",
    "print(corr)\n",
    "sns.heatmap(corr, \n",
    "        xticklabels=corr.columns,\n",
    "        yticklabels=corr.columns)"
   ]
  },
  {
   "cell_type": "markdown",
   "metadata": {},
   "source": [
    "In the above heatmap, brighter colors indicate more correlation.\n",
    "\n",
    "When using machine learning algorithms we should always split our data into a training set and test set. (If the number of experiments we are running is large, then we can should be dividing our data into 3 parts, namely - training set, development set and test set). In our case, we will also separate out some data for manual cross checking.\n",
    "\n",
    "The data set consists of record of 1338 policy-holders in total. To train our model we will be using 1000 records. We will be using 300 records for testing, and the last 38 records to cross check our model.\n",
    "\n"
   ]
  },
  {
   "cell_type": "code",
   "execution_count": 16,
   "metadata": {},
   "outputs": [],
   "source": [
    "dfTrain = insuranceDF[:1000]\n",
    "dfTest = insuranceDF[1000:1300]\n",
    "dfCheck = insuranceDF[1300:]"
   ]
  },
  {
   "cell_type": "markdown",
   "metadata": {},
   "source": [
    "Next, we separate the label and features (for both training and test dataset). In addition to that, we will also convert them into NumPy arrays as our machine learning algorithm process data in NumPy array format."
   ]
  },
  {
   "cell_type": "code",
   "execution_count": 17,
   "metadata": {},
   "outputs": [],
   "source": [
    "trainLabel = np.asarray(dfTrain['insuranceclaim'])\n",
    "trainData = np.asarray(dfTrain.drop('insuranceclaim',1))\n",
    "testLabel = np.asarray(dfTest['insuranceclaim'])\n",
    "testData = np.asarray(dfTest.drop('insuranceclaim',1))"
   ]
  },
  {
   "cell_type": "code",
   "execution_count": 38,
   "metadata": {},
   "outputs": [
    {
     "data": {
      "text/plain": [
       "array([[-0.6796576 ,  0.9900495 , -1.30258738, ...,  2.02534955,\n",
       "        -0.46765506,  0.35776588],\n",
       "       [-1.10378091,  0.9900495 ,  0.303854  , ...,  2.02534955,\n",
       "         1.33448391,  1.78607763],\n",
       "       [-1.10378091,  0.9900495 , -0.83769549, ..., -0.49374193,\n",
       "         1.33448391, -0.92678386],\n",
       "       ...,\n",
       "       [-0.82103204, -1.0100505 , -0.7202317 , ..., -0.49374193,\n",
       "         0.43341442, -0.72916243],\n",
       "       [-0.46759595,  0.9900495 , -0.56388905, ..., -0.49374193,\n",
       "        -0.46765506, -0.65228147],\n",
       "       [-1.457217  , -1.0100505 , -0.84679479, ..., -0.49374193,\n",
       "        -0.46765506, -0.86519097]])"
      ]
     },
     "execution_count": 38,
     "metadata": {},
     "output_type": "execute_result"
    }
   ],
   "source": [
    "testData"
   ]
  },
  {
   "cell_type": "markdown",
   "metadata": {},
   "source": [
    "As the final step before using machine learning, we will normalize our inputs. Machine Learning models often benefit substantially from input normalization. It also makes it easier for us to understand the importance of each feature later, when we'll be looking at the model weights. We'll normalize the data such that each variable has 0 mean and standard deviation of 1."
   ]
  },
  {
   "cell_type": "code",
   "execution_count": 18,
   "metadata": {},
   "outputs": [],
   "source": [
    "means = np.mean(trainData, axis=0)\n",
    "stds = np.std(trainData, axis=0)\n",
    " \n",
    "trainData = (trainData - means)/stds\n",
    "testData = (testData - means)/stds"
   ]
  },
  {
   "cell_type": "markdown",
   "metadata": {},
   "source": [
    "We can now train our classification model. We'll be using a machine simple learning model called logistic regression. Since the model is readily available in sklearn, the training process is quite easy and we can do it in few lines of code. First, we create an instance called insuranceCheck and then use the fit function to train the model."
   ]
  },
  {
   "cell_type": "code",
   "execution_count": 23,
   "metadata": {},
   "outputs": [
    {
     "data": {
      "text/plain": [
       "LogisticRegression(C=1.0, class_weight=None, dual=False, fit_intercept=True,\n",
       "          intercept_scaling=1, max_iter=100, multi_class='warn',\n",
       "          n_jobs=None, penalty='l2', random_state=None, solver='warn',\n",
       "          tol=0.0001, verbose=0, warm_start=False)"
      ]
     },
     "execution_count": 23,
     "metadata": {},
     "output_type": "execute_result"
    }
   ],
   "source": [
    "insuranceCheck = LogisticRegression()\n",
    "insuranceCheck.fit(trainData, trainLabel)"
   ]
  },
  {
   "cell_type": "code",
   "execution_count": 24,
   "metadata": {},
   "outputs": [
    {
     "name": "stdout",
     "output_type": "stream",
     "text": [
      "('accuracy = ', 85.66666666666667, '%')\n"
     ]
    }
   ],
   "source": [
    "accuracy = insuranceCheck.score(testData, testLabel)\n",
    "print(\"accuracy = \", accuracy * 100, \"%\")"
   ]
  },
  {
   "cell_type": "code",
   "execution_count": 25,
   "metadata": {},
   "outputs": [
    {
     "data": {
      "text/plain": [
       "Text(0.5,0,'Importance')"
      ]
     },
     "execution_count": 25,
     "metadata": {},
     "output_type": "execute_result"
    },
    {
     "data": {
      "image/png": "[encoded data removed]",
      "text/plain": [
       "<Figure size 792x432 with 1 Axes>"
      ]
     },
     "metadata": {
      "needs_background": "light"
     },
     "output_type": "display_data"
    }
   ],
   "source": [
    "coeff = list(insuranceCheck.coef_[0])\n",
    "labels = list(dfTrain.drop('insuranceclaim',1).columns)\n",
    "features = pd.DataFrame()\n",
    "features['Features'] = labels\n",
    "features['importance'] = coeff\n",
    "features.sort_values(by=['importance'], ascending=True, inplace=True)\n",
    "features['positive'] = features['importance'] > 0\n",
    "features.set_index('Features', inplace=True)\n",
    "features.importance.plot(kind='barh', figsize=(11, 6),color = features.positive.map({True: 'blue', False: 'red'}))\n",
    "plt.xlabel('Importance')"
   ]
  },
  {
   "cell_type": "markdown",
   "metadata": {},
   "source": [
    "From the above figure, we can draw the following conclusions.\n",
    "\n",
    "BMI, Smoker have significant influence on the model, specially BMI. It is good to see our machine learning model match what we have been hearing from doctors our entire lives!\n",
    "\n",
    "Children has a negative influence on the prediction, i.e. higher number children / dependents are correlated with a policyholder not taken insurance claim.\n",
    "\n",
    "Although age was more correlated than BMI to the output variables (as we saw during data exploration), the model relies more on BMI. This can happen for several reasons, including the fact that the correlation captured by age is also captured by some other variable, whereas the information captured by BMI is not captured by other variables.\n",
    "\n",
    "Note that this above interpretations require that our input data is normalized. Without that, we can't claim that importance is proportional to weights.\n",
    "\n",
    "Now save our trained model for future use using joblib."
   ]
  },
  {
   "cell_type": "code",
   "execution_count": 26,
   "metadata": {},
   "outputs": [
    {
     "data": {
      "text/plain": [
       "['insurance01Model.pkl']"
      ]
     },
     "execution_count": 26,
     "metadata": {},
     "output_type": "execute_result"
    }
   ],
   "source": [
    "joblib.dump([insuranceCheck, means, stds], 'insurance01Model.pkl')"
   ]
  },
  {
   "cell_type": "markdown",
   "metadata": {},
   "source": [
    "To check whether we have saved the model properly or not, we will use our test data to check the accuracy of our saved model (we should observe no change in accuracy if we have saved it properly)."
   ]
  },
  {
   "cell_type": "code",
   "execution_count": 27,
   "metadata": {},
   "outputs": [
    {
     "name": "stdout",
     "output_type": "stream",
     "text": [
      "('accuracy = ', 85.66666666666667, '%')\n"
     ]
    }
   ],
   "source": [
    "\n",
    "insuranceLoadedModel, means, stds = joblib.load('insurance01Model.pkl')\n",
    "accuracyModel = insuranceLoadedModel.score(testData, testLabel)\n",
    "print(\"accuracy = \",accuracyModel * 100,\"%\")"
   ]
  },
  {
   "cell_type": "markdown",
   "metadata": {},
   "source": [
    "Now use our unused 38 data to see how predictions can be made. We have our unused data in dfCheck."
   ]
  },
  {
   "cell_type": "code",
   "execution_count": 28,
   "metadata": {},
   "outputs": [
    {
     "name": "stdout",
     "output_type": "stream",
     "text": [
      "      age  sex     bmi  children  smoker  region      charges  insuranceclaim\n",
      "1300   45    1  30.360         0       1       2  62592.87309               1\n",
      "1301   62    1  30.875         3       1       1  46718.16325               1\n",
      "1302   25    0  20.800         1       0       3   3208.78700               0\n",
      "1303   43    1  27.800         0       1       3  37829.72420               1\n",
      "1304   42    1  24.605         2       1       0  21259.37795               1\n",
      "1305   24    0  27.720         0       0       2   2464.61880               1\n",
      "1306   29    0  21.850         0       1       0  16115.30450               1\n",
      "1307   32    1  28.120         4       1       1  21472.47880               0\n",
      "1308   25    0  30.200         0       1       3  33900.65300               1\n",
      "1309   41    1  32.200         2       0       3   6875.96100               0\n",
      "1310   42    1  26.315         1       0       1   6940.90985               0\n",
      "1311   33    0  26.695         0       0       1   4571.41305               1\n",
      "1312   34    1  42.900         1       0       3   4536.25900               1\n",
      "1313   19    0  34.700         2       1       3  36397.57600               1\n",
      "1314   30    0  23.655         3       1       1  18765.87545               0\n",
      "1315   18    1  28.310         1       0       0  11272.33139               0\n",
      "1316   19    0  20.600         0       0       3   1731.67700               0\n",
      "1317   18    1  53.130         0       0       2   1163.46270               1\n",
      "1318   35    1  39.710         4       0       0  19496.71917               0\n",
      "1319   39    0  26.315         2       0       1   7201.70085               0\n",
      "1320   31    1  31.065         3       0       1   5425.02335               0\n",
      "1321   62    1  26.695         0       1       0  28101.33305               1\n",
      "1322   62    1  38.830         0       0       2  12981.34570               1\n",
      "1323   42    0  40.370         2       1       2  43896.37630               1\n",
      "1324   31    1  25.935         1       0       1   4239.89265               0\n",
      "1325   61    1  33.535         0       0       0  13143.33665               1\n",
      "1326   42    0  32.870         0       0       0   7050.02130               1\n",
      "1327   51    1  30.030         1       0       2   9377.90470               1\n",
      "1328   23    0  24.225         2       0       0  22395.74424               0\n",
      "1329   52    1  38.600         2       0       3  10325.20600               1\n",
      "1330   57    0  25.740         2       0       2  12629.16560               1\n",
      "1331   23    0  33.400         0       0       3  10795.93733               1\n",
      "1332   52    0  44.700         3       0       3  11411.68500               0\n",
      "1333   50    1  30.970         3       0       1  10600.54830               0\n",
      "1334   18    0  31.920         0       0       0   2205.98080               1\n",
      "1335   18    0  36.850         0       0       2   1629.83350               1\n",
      "1336   21    0  25.800         0       0       3   2007.94500               0\n",
      "1337   61    0  29.070         0       1       1  29141.36030               1\n"
     ]
    }
   ],
   "source": [
    "\n",
    "print(dfCheck.head(38))"
   ]
  },
  {
   "cell_type": "code",
   "execution_count": 29,
   "metadata": {},
   "outputs": [
    {
     "name": "stdout",
     "output_type": "stream",
     "text": [
      "('Insurance Claim Probability:', array([[0.95819476, 0.04180524]]))\n",
      "('Insurance Claim Prediction:', array([0]))\n"
     ]
    }
   ],
   "source": [
    "sampleData = dfCheck[2:3]\n",
    " \n",
    "# prepare sample  \n",
    "sampleDataFeatures = np.asarray(sampleData.drop('insuranceclaim',1))\n",
    "sampleDataFeatures = (sampleDataFeatures - means)/stds\n",
    " \n",
    "# predict \n",
    "predictionProbability = insuranceLoadedModel.predict_proba(sampleDataFeatures)\n",
    "prediction = insuranceLoadedModel.predict(sampleDataFeatures)\n",
    "print('Insurance Claim Probability:', predictionProbability)\n",
    "print('Insurance Claim Prediction:', prediction)"
   ]
  },
  {
   "cell_type": "code",
   "execution_count": null,
   "metadata": {},
   "outputs": [],
   "source": []
  }
 ],
 "metadata": {
  "kernelspec": {
   "display_name": "Python 2",
   "language": "python",
   "name": "python2"
  },
  "language_info": {
   "codemirror_mode": {
    "name": "ipython",
    "version": 2
   },
   "file_extension": ".py",
   "mimetype": "text/x-python",
   "name": "python",
   "nbconvert_exporter": "python",
   "pygments_lexer": "ipython2",
   "version": "2.7.15rc1"
  }
 },
 "nbformat": 4,
 "nbformat_minor": 2
}
